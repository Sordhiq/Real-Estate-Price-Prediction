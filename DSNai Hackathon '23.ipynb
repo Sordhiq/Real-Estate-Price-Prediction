{
 "cells": [
  {
   "cell_type": "markdown",
   "metadata": {},
   "source": [
    "Full Name: Sodiq Jinad\n",
    "\n",
    "Zindi Username: Sordhiq\n",
    "\n",
    "Github: github.com/Sordhiq"
   ]
  },
  {
   "cell_type": "markdown",
   "metadata": {},
   "source": [
    "--------------------------------"
   ]
  },
  {
   "cell_type": "markdown",
   "metadata": {},
   "source": [
    "-------------------------"
   ]
  },
  {
   "cell_type": "markdown",
   "metadata": {},
   "source": [
    "### Wazobia Real Estate Limited"
   ]
  },
  {
   "cell_type": "markdown",
   "metadata": {},
   "source": [
    "--------------------------------------------------------------------------------------------------"
   ]
  },
  {
   "cell_type": "markdown",
   "metadata": {},
   "source": [
    "Wazobia Real Estate Limited is a prominent real estate company operating in Nigeria. With a vast portfolio of properties, they strive to provide accurate and competitive pricing for houses. However, they have been facing challenges in accurately predicting the prices of houses in the current market. To overcome this hurdle, I will be attempting to develop a robust predictive model for Wazobia Real Estate Limited.\n",
    "\n",
    "The objective of this hackathon is to create a powerful and accurate predictive model that can estimate the prices of houses in Nigeria. By leveraging the provided dataset, I am analyzing various factors that impact house prices, identify meaningful patterns, and build a model that can generate reliable price predictions. The ultimate goal is to provide Wazobia Real Estate Limited with an effective tool to make informed pricing decisions and enhance their competitiveness in the market.\n",
    "\n",
    "By developing this model solution, I will be making a significant impact on the operations and growth of Wazobia Real Estate Limited. My data-driven solution will empower the company to overcome their pricing challenges, improve their market position, and deliver enhanced value to their customers."
   ]
  },
  {
   "cell_type": "markdown",
   "metadata": {},
   "source": [
    "----------------------"
   ]
  },
  {
   "cell_type": "code",
   "execution_count": 1,
   "metadata": {},
   "outputs": [],
   "source": [
    "# Importing all necessary libraries \n",
    "\n",
    "import numpy as np\n",
    "import pandas as pd\n",
    "import seaborn as sns\n",
    "import matplotlib.pyplot as plt\n",
    "\n",
    "from sklearn import  metrics\n",
    "from xgboost import XGBRegressor\n",
    "\n",
    "from sklearn.impute import SimpleImputer\n",
    "from sklearn.ensemble import BaggingRegressor\n",
    "\n",
    "from sklearn.model_selection import  train_test_split\n",
    "from sklearn.preprocessing import  StandardScaler, LabelEncoder\n",
    "\n",
    "import warnings\n",
    "warnings.filterwarnings(\"ignore\")"
   ]
  },
  {
   "cell_type": "code",
   "execution_count": 2,
   "metadata": {},
   "outputs": [],
   "source": [
    "# Reading in the train, test and submission sample datasets\n",
    "\n",
    "train = pd.read_csv(\"Housing_dataset_train.csv\")\n",
    "test = pd.read_csv(\"Housing_dataset_test.csv\")\n",
    "submission = pd.read_csv(\"Sample_submission.csv\")"
   ]
  },
  {
   "cell_type": "code",
   "execution_count": 3,
   "metadata": {},
   "outputs": [
    {
     "data": {
      "text/html": [
       "<div>\n",
       "<style scoped>\n",
       "    .dataframe tbody tr th:only-of-type {\n",
       "        vertical-align: middle;\n",
       "    }\n",
       "\n",
       "    .dataframe tbody tr th {\n",
       "        vertical-align: top;\n",
       "    }\n",
       "\n",
       "    .dataframe thead th {\n",
       "        text-align: right;\n",
       "    }\n",
       "</style>\n",
       "<table border=\"1\" class=\"dataframe\">\n",
       "  <thead>\n",
       "    <tr style=\"text-align: right;\">\n",
       "      <th></th>\n",
       "      <th>ID</th>\n",
       "      <th>loc</th>\n",
       "      <th>title</th>\n",
       "      <th>bedroom</th>\n",
       "      <th>bathroom</th>\n",
       "      <th>parking_space</th>\n",
       "      <th>price</th>\n",
       "    </tr>\n",
       "  </thead>\n",
       "  <tbody>\n",
       "    <tr>\n",
       "      <th>0</th>\n",
       "      <td>3583</td>\n",
       "      <td>Katsina</td>\n",
       "      <td>Semi-detached duplex</td>\n",
       "      <td>2.0</td>\n",
       "      <td>2.0</td>\n",
       "      <td>1.0</td>\n",
       "      <td>1149999.565</td>\n",
       "    </tr>\n",
       "    <tr>\n",
       "      <th>1</th>\n",
       "      <td>2748</td>\n",
       "      <td>Ondo</td>\n",
       "      <td>Apartment</td>\n",
       "      <td>NaN</td>\n",
       "      <td>2.0</td>\n",
       "      <td>4.0</td>\n",
       "      <td>1672416.689</td>\n",
       "    </tr>\n",
       "    <tr>\n",
       "      <th>2</th>\n",
       "      <td>9261</td>\n",
       "      <td>Ekiti</td>\n",
       "      <td>NaN</td>\n",
       "      <td>7.0</td>\n",
       "      <td>5.0</td>\n",
       "      <td>NaN</td>\n",
       "      <td>3364799.814</td>\n",
       "    </tr>\n",
       "    <tr>\n",
       "      <th>3</th>\n",
       "      <td>2224</td>\n",
       "      <td>Anambra</td>\n",
       "      <td>Detached duplex</td>\n",
       "      <td>5.0</td>\n",
       "      <td>2.0</td>\n",
       "      <td>4.0</td>\n",
       "      <td>2410306.756</td>\n",
       "    </tr>\n",
       "    <tr>\n",
       "      <th>4</th>\n",
       "      <td>10300</td>\n",
       "      <td>Kogi</td>\n",
       "      <td>Terrace duplex</td>\n",
       "      <td>NaN</td>\n",
       "      <td>5.0</td>\n",
       "      <td>6.0</td>\n",
       "      <td>2600700.898</td>\n",
       "    </tr>\n",
       "  </tbody>\n",
       "</table>\n",
       "</div>"
      ],
      "text/plain": [
       "      ID      loc                 title  bedroom  bathroom  parking_space  \\\n",
       "0   3583  Katsina  Semi-detached duplex      2.0       2.0            1.0   \n",
       "1   2748     Ondo             Apartment      NaN       2.0            4.0   \n",
       "2   9261    Ekiti                   NaN      7.0       5.0            NaN   \n",
       "3   2224  Anambra       Detached duplex      5.0       2.0            4.0   \n",
       "4  10300     Kogi        Terrace duplex      NaN       5.0            6.0   \n",
       "\n",
       "         price  \n",
       "0  1149999.565  \n",
       "1  1672416.689  \n",
       "2  3364799.814  \n",
       "3  2410306.756  \n",
       "4  2600700.898  "
      ]
     },
     "execution_count": 3,
     "metadata": {},
     "output_type": "execute_result"
    }
   ],
   "source": [
    "# Inspecting features and first 5 rows of the train dataset\n",
    "\n",
    "train.head()"
   ]
  },
  {
   "cell_type": "code",
   "execution_count": 4,
   "metadata": {},
   "outputs": [
    {
     "data": {
      "text/html": [
       "<div>\n",
       "<style scoped>\n",
       "    .dataframe tbody tr th:only-of-type {\n",
       "        vertical-align: middle;\n",
       "    }\n",
       "\n",
       "    .dataframe tbody tr th {\n",
       "        vertical-align: top;\n",
       "    }\n",
       "\n",
       "    .dataframe thead th {\n",
       "        text-align: right;\n",
       "    }\n",
       "</style>\n",
       "<table border=\"1\" class=\"dataframe\">\n",
       "  <thead>\n",
       "    <tr style=\"text-align: right;\">\n",
       "      <th></th>\n",
       "      <th>ID</th>\n",
       "      <th>loc</th>\n",
       "      <th>title</th>\n",
       "      <th>bedroom</th>\n",
       "      <th>bathroom</th>\n",
       "      <th>parking_space</th>\n",
       "      <th>price</th>\n",
       "    </tr>\n",
       "  </thead>\n",
       "  <tbody>\n",
       "    <tr>\n",
       "      <th>13995</th>\n",
       "      <td>6175</td>\n",
       "      <td>Edo</td>\n",
       "      <td>Bungalow</td>\n",
       "      <td>NaN</td>\n",
       "      <td>7.0</td>\n",
       "      <td>NaN</td>\n",
       "      <td>2367927.861</td>\n",
       "    </tr>\n",
       "    <tr>\n",
       "      <th>13996</th>\n",
       "      <td>9704</td>\n",
       "      <td>Kaduna</td>\n",
       "      <td>Apartment</td>\n",
       "      <td>NaN</td>\n",
       "      <td>7.0</td>\n",
       "      <td>5.0</td>\n",
       "      <td>2228516.471</td>\n",
       "    </tr>\n",
       "    <tr>\n",
       "      <th>13997</th>\n",
       "      <td>11190</td>\n",
       "      <td>Plateau</td>\n",
       "      <td>Bungalow</td>\n",
       "      <td>8.0</td>\n",
       "      <td>6.0</td>\n",
       "      <td>5.0</td>\n",
       "      <td>2406812.693</td>\n",
       "    </tr>\n",
       "    <tr>\n",
       "      <th>13998</th>\n",
       "      <td>9256</td>\n",
       "      <td>Delta</td>\n",
       "      <td>Flat</td>\n",
       "      <td>NaN</td>\n",
       "      <td>6.0</td>\n",
       "      <td>1.0</td>\n",
       "      <td>3348918.718</td>\n",
       "    </tr>\n",
       "    <tr>\n",
       "      <th>13999</th>\n",
       "      <td>8787</td>\n",
       "      <td>Nasarawa</td>\n",
       "      <td>NaN</td>\n",
       "      <td>9.0</td>\n",
       "      <td>7.0</td>\n",
       "      <td>5.0</td>\n",
       "      <td>2858516.890</td>\n",
       "    </tr>\n",
       "  </tbody>\n",
       "</table>\n",
       "</div>"
      ],
      "text/plain": [
       "          ID       loc      title  bedroom  bathroom  parking_space  \\\n",
       "13995   6175       Edo   Bungalow      NaN       7.0            NaN   \n",
       "13996   9704    Kaduna  Apartment      NaN       7.0            5.0   \n",
       "13997  11190   Plateau   Bungalow      8.0       6.0            5.0   \n",
       "13998   9256     Delta       Flat      NaN       6.0            1.0   \n",
       "13999   8787  Nasarawa        NaN      9.0       7.0            5.0   \n",
       "\n",
       "             price  \n",
       "13995  2367927.861  \n",
       "13996  2228516.471  \n",
       "13997  2406812.693  \n",
       "13998  3348918.718  \n",
       "13999  2858516.890  "
      ]
     },
     "execution_count": 4,
     "metadata": {},
     "output_type": "execute_result"
    }
   ],
   "source": [
    "# Inspecting the last 5 rows of the train dataset\n",
    "\n",
    "train.tail()"
   ]
  },
  {
   "cell_type": "code",
   "execution_count": 5,
   "metadata": {},
   "outputs": [
    {
     "name": "stdout",
     "output_type": "stream",
     "text": [
      "The data has:\n",
      "\n",
      " Rows: 14000 \n",
      " Columns: 7\n"
     ]
    }
   ],
   "source": [
    "# Inspecting the shape of the train dataset\n",
    "\n",
    "train.shape\n",
    "print(\"The data has:\\n\\n\",\"Rows:\", train.shape[0],\"\\n\",\"Columns:\", train.shape[1])"
   ]
  },
  {
   "cell_type": "markdown",
   "metadata": {},
   "source": [
    "The train data has `1,400` rows and `7` columns/features "
   ]
  },
  {
   "cell_type": "code",
   "execution_count": 6,
   "metadata": {},
   "outputs": [
    {
     "name": "stdout",
     "output_type": "stream",
     "text": [
      "<class 'pandas.core.frame.DataFrame'>\n",
      "RangeIndex: 14000 entries, 0 to 13999\n",
      "Data columns (total 7 columns):\n",
      " #   Column         Non-Null Count  Dtype  \n",
      "---  ------         --------------  -----  \n",
      " 0   ID             14000 non-null  int64  \n",
      " 1   loc            12187 non-null  object \n",
      " 2   title          12278 non-null  object \n",
      " 3   bedroom        12201 non-null  float64\n",
      " 4   bathroom       12195 non-null  float64\n",
      " 5   parking_space  12189 non-null  float64\n",
      " 6   price          14000 non-null  float64\n",
      "dtypes: float64(4), int64(1), object(2)\n",
      "memory usage: 765.8+ KB\n"
     ]
    }
   ],
   "source": [
    "# Inspecting the datatypes of all columns\n",
    "\n",
    "train.info()"
   ]
  },
  {
   "cell_type": "code",
   "execution_count": 7,
   "metadata": {},
   "outputs": [
    {
     "data": {
      "text/html": [
       "<div>\n",
       "<style scoped>\n",
       "    .dataframe tbody tr th:only-of-type {\n",
       "        vertical-align: middle;\n",
       "    }\n",
       "\n",
       "    .dataframe tbody tr th {\n",
       "        vertical-align: top;\n",
       "    }\n",
       "\n",
       "    .dataframe thead th {\n",
       "        text-align: right;\n",
       "    }\n",
       "</style>\n",
       "<table border=\"1\" class=\"dataframe\">\n",
       "  <thead>\n",
       "    <tr style=\"text-align: right;\">\n",
       "      <th></th>\n",
       "      <th>ID</th>\n",
       "      <th>bedroom</th>\n",
       "      <th>bathroom</th>\n",
       "      <th>parking_space</th>\n",
       "      <th>price</th>\n",
       "    </tr>\n",
       "  </thead>\n",
       "  <tbody>\n",
       "    <tr>\n",
       "      <th>count</th>\n",
       "      <td>14000.000000</td>\n",
       "      <td>12201.000000</td>\n",
       "      <td>12195.000000</td>\n",
       "      <td>12189.000000</td>\n",
       "      <td>1.400000e+04</td>\n",
       "    </tr>\n",
       "    <tr>\n",
       "      <th>mean</th>\n",
       "      <td>4862.700357</td>\n",
       "      <td>4.308171</td>\n",
       "      <td>3.134235</td>\n",
       "      <td>3.169825</td>\n",
       "      <td>2.138082e+06</td>\n",
       "    </tr>\n",
       "    <tr>\n",
       "      <th>std</th>\n",
       "      <td>3818.348214</td>\n",
       "      <td>2.441165</td>\n",
       "      <td>2.035950</td>\n",
       "      <td>1.599415</td>\n",
       "      <td>1.083057e+06</td>\n",
       "    </tr>\n",
       "    <tr>\n",
       "      <th>min</th>\n",
       "      <td>0.000000</td>\n",
       "      <td>1.000000</td>\n",
       "      <td>1.000000</td>\n",
       "      <td>1.000000</td>\n",
       "      <td>4.319673e+05</td>\n",
       "    </tr>\n",
       "    <tr>\n",
       "      <th>25%</th>\n",
       "      <td>1672.750000</td>\n",
       "      <td>2.000000</td>\n",
       "      <td>1.000000</td>\n",
       "      <td>2.000000</td>\n",
       "      <td>1.393990e+06</td>\n",
       "    </tr>\n",
       "    <tr>\n",
       "      <th>50%</th>\n",
       "      <td>3527.000000</td>\n",
       "      <td>4.000000</td>\n",
       "      <td>2.000000</td>\n",
       "      <td>3.000000</td>\n",
       "      <td>1.895223e+06</td>\n",
       "    </tr>\n",
       "    <tr>\n",
       "      <th>75%</th>\n",
       "      <td>8011.250000</td>\n",
       "      <td>6.000000</td>\n",
       "      <td>5.000000</td>\n",
       "      <td>4.000000</td>\n",
       "      <td>2.586699e+06</td>\n",
       "    </tr>\n",
       "    <tr>\n",
       "      <th>max</th>\n",
       "      <td>12999.000000</td>\n",
       "      <td>9.000000</td>\n",
       "      <td>7.000000</td>\n",
       "      <td>6.000000</td>\n",
       "      <td>1.656849e+07</td>\n",
       "    </tr>\n",
       "  </tbody>\n",
       "</table>\n",
       "</div>"
      ],
      "text/plain": [
       "                 ID       bedroom      bathroom  parking_space         price\n",
       "count  14000.000000  12201.000000  12195.000000   12189.000000  1.400000e+04\n",
       "mean    4862.700357      4.308171      3.134235       3.169825  2.138082e+06\n",
       "std     3818.348214      2.441165      2.035950       1.599415  1.083057e+06\n",
       "min        0.000000      1.000000      1.000000       1.000000  4.319673e+05\n",
       "25%     1672.750000      2.000000      1.000000       2.000000  1.393990e+06\n",
       "50%     3527.000000      4.000000      2.000000       3.000000  1.895223e+06\n",
       "75%     8011.250000      6.000000      5.000000       4.000000  2.586699e+06\n",
       "max    12999.000000      9.000000      7.000000       6.000000  1.656849e+07"
      ]
     },
     "execution_count": 7,
     "metadata": {},
     "output_type": "execute_result"
    }
   ],
   "source": [
    "# Looking the summary statistics and percentiles of numerical features\n",
    "\n",
    "train.describe()"
   ]
  },
  {
   "cell_type": "markdown",
   "metadata": {},
   "source": [
    "From the table of `descriptive statistics`, it could be seen that \n",
    "(i). An average property would comprise `4 bedrooms, 3 bathrooms, 3 parking space` and cost around `N2million` \n",
    "(ii). The `least expensive` property does have `1 bedroom, 1 bathroom, 1 parking space` and a little above `N400,000` \n",
    "(iii). The `most expensive property` comprise` 9 bedrooms, 7 bathrooms and 6 parking space` with price exceeding over `N16million` ."
   ]
  },
  {
   "cell_type": "code",
   "execution_count": 8,
   "metadata": {},
   "outputs": [
    {
     "data": {
      "text/plain": [
       "ID               10182\n",
       "loc                 36\n",
       "title               10\n",
       "bedroom              9\n",
       "bathroom             7\n",
       "parking_space        6\n",
       "price            10727\n",
       "dtype: int64"
      ]
     },
     "execution_count": 8,
     "metadata": {},
     "output_type": "execute_result"
    }
   ],
   "source": [
    "# Looking out for unique elements which comprises each features\n",
    "\n",
    "train.nunique()"
   ]
  },
  {
   "cell_type": "code",
   "execution_count": 9,
   "metadata": {},
   "outputs": [
    {
     "data": {
      "text/plain": [
       "ID               0.610108\n",
       "bedroom          0.390922\n",
       "bathroom         0.633202\n",
       "parking_space    0.249415\n",
       "price            2.451809\n",
       "dtype: float64"
      ]
     },
     "execution_count": 9,
     "metadata": {},
     "output_type": "execute_result"
    }
   ],
   "source": [
    "# Inspecting the Skewness of the train data\n",
    "\n",
    "train.skew()"
   ]
  },
  {
   "cell_type": "markdown",
   "metadata": {},
   "source": [
    "From the `Skewness` function above, it could be deduced that the train data is `positively skewed` with all features having majority of their `datapoints` to the `right hand` side of the distribution"
   ]
  },
  {
   "cell_type": "code",
   "execution_count": 10,
   "metadata": {},
   "outputs": [
    {
     "data": {
      "text/plain": [
       "ID               -0.949480\n",
       "bedroom          -0.904073\n",
       "bathroom         -0.982368\n",
       "parking_space    -1.014354\n",
       "price            15.218322\n",
       "dtype: float64"
      ]
     },
     "execution_count": 10,
     "metadata": {},
     "output_type": "execute_result"
    }
   ],
   "source": [
    "# Inspecting the Kurtosis of the train data\n",
    " \n",
    "train.kurtosis()"
   ]
  },
  {
   "cell_type": "markdown",
   "metadata": {},
   "source": [
    "The `Kurtosis` function indicates a `Platykurtic` distribution among the features with the data mostly stretched around the mean. The target variable (`price`), however, exhibits a `Leptokurtic` distribution with the data points having long tails with possibility of `outliers`."
   ]
  },
  {
   "cell_type": "code",
   "execution_count": 11,
   "metadata": {},
   "outputs": [
    {
     "data": {
      "text/plain": [
       "0"
      ]
     },
     "execution_count": 11,
     "metadata": {},
     "output_type": "execute_result"
    }
   ],
   "source": [
    "# Looking out for duplicate values from the train set\n",
    "\n",
    "train.duplicated().sum()"
   ]
  },
  {
   "cell_type": "code",
   "execution_count": 12,
   "metadata": {},
   "outputs": [
    {
     "data": {
      "text/plain": [
       "ID                  0\n",
       "loc              1813\n",
       "title            1722\n",
       "bedroom          1799\n",
       "bathroom         1805\n",
       "parking_space    1811\n",
       "price               0\n",
       "dtype: int64"
      ]
     },
     "execution_count": 12,
     "metadata": {},
     "output_type": "execute_result"
    }
   ],
   "source": [
    "# Looking out for missing values from the train set\n",
    "\n",
    "train.isnull().sum()"
   ]
  },
  {
   "cell_type": "markdown",
   "metadata": {},
   "source": [
    "All columns tend to have `missing values` with the exception of the `ID` and `price` columns. The missing values will be sorted during the course of the project"
   ]
  },
  {
   "cell_type": "code",
   "execution_count": 13,
   "metadata": {},
   "outputs": [
    {
     "data": {
      "text/plain": [
       "Text(0.5, 1.0, 'Heatmap of Missing values')"
      ]
     },
     "execution_count": 13,
     "metadata": {},
     "output_type": "execute_result"
    },
    {
     "data": {
      "image/png": "[encoded data removed]",
      "text/plain": [
       "<Figure size 576x432 with 2 Axes>"
      ]
     },
     "metadata": {
      "needs_background": "light"
     },
     "output_type": "display_data"
    }
   ],
   "source": [
    "# Heatmap of missing values\n",
    "\n",
    "plt.figure(figsize=(8, 6))\n",
    "sns.heatmap(train.isnull(), cmap='summer')\n",
    "plt.title(\"Heatmap of Missing values\", fontsize=15)"
   ]
  },
  {
   "cell_type": "code",
   "execution_count": 14,
   "metadata": {},
   "outputs": [
    {
     "data": {
      "text/html": [
       "<div>\n",
       "<style scoped>\n",
       "    .dataframe tbody tr th:only-of-type {\n",
       "        vertical-align: middle;\n",
       "    }\n",
       "\n",
       "    .dataframe tbody tr th {\n",
       "        vertical-align: top;\n",
       "    }\n",
       "\n",
       "    .dataframe thead th {\n",
       "        text-align: right;\n",
       "    }\n",
       "</style>\n",
       "<table border=\"1\" class=\"dataframe\">\n",
       "  <thead>\n",
       "    <tr style=\"text-align: right;\">\n",
       "      <th></th>\n",
       "      <th>ID</th>\n",
       "      <th>bedroom</th>\n",
       "      <th>bathroom</th>\n",
       "      <th>parking_space</th>\n",
       "      <th>price</th>\n",
       "    </tr>\n",
       "    <tr>\n",
       "      <th>title</th>\n",
       "      <th></th>\n",
       "      <th></th>\n",
       "      <th></th>\n",
       "      <th></th>\n",
       "      <th></th>\n",
       "    </tr>\n",
       "  </thead>\n",
       "  <tbody>\n",
       "    <tr>\n",
       "      <th>Mansion</th>\n",
       "      <td>4882.914523</td>\n",
       "      <td>4.333929</td>\n",
       "      <td>3.197880</td>\n",
       "      <td>3.115114</td>\n",
       "      <td>3.725768e+06</td>\n",
       "    </tr>\n",
       "    <tr>\n",
       "      <th>Penthouse</th>\n",
       "      <td>4945.607963</td>\n",
       "      <td>4.342982</td>\n",
       "      <td>2.986667</td>\n",
       "      <td>3.225177</td>\n",
       "      <td>2.628945e+06</td>\n",
       "    </tr>\n",
       "    <tr>\n",
       "      <th>Detached duplex</th>\n",
       "      <td>5002.801067</td>\n",
       "      <td>4.327840</td>\n",
       "      <td>3.232270</td>\n",
       "      <td>3.230906</td>\n",
       "      <td>2.205883e+06</td>\n",
       "    </tr>\n",
       "    <tr>\n",
       "      <th>Townhouse</th>\n",
       "      <td>5084.376036</td>\n",
       "      <td>4.298759</td>\n",
       "      <td>3.165789</td>\n",
       "      <td>3.175454</td>\n",
       "      <td>2.056125e+06</td>\n",
       "    </tr>\n",
       "    <tr>\n",
       "      <th>Terrace duplex</th>\n",
       "      <td>5152.398894</td>\n",
       "      <td>4.340639</td>\n",
       "      <td>3.292616</td>\n",
       "      <td>3.178505</td>\n",
       "      <td>1.927270e+06</td>\n",
       "    </tr>\n",
       "    <tr>\n",
       "      <th>Semi-detached duplex</th>\n",
       "      <td>4980.161663</td>\n",
       "      <td>4.414903</td>\n",
       "      <td>3.194770</td>\n",
       "      <td>3.202912</td>\n",
       "      <td>1.918468e+06</td>\n",
       "    </tr>\n",
       "    <tr>\n",
       "      <th>Bungalow</th>\n",
       "      <td>5005.518948</td>\n",
       "      <td>4.402852</td>\n",
       "      <td>3.394664</td>\n",
       "      <td>3.192619</td>\n",
       "      <td>1.733845e+06</td>\n",
       "    </tr>\n",
       "    <tr>\n",
       "      <th>Flat</th>\n",
       "      <td>4852.685860</td>\n",
       "      <td>4.378877</td>\n",
       "      <td>3.188295</td>\n",
       "      <td>3.146486</td>\n",
       "      <td>1.721875e+06</td>\n",
       "    </tr>\n",
       "    <tr>\n",
       "      <th>Apartment</th>\n",
       "      <td>4940.278738</td>\n",
       "      <td>4.344219</td>\n",
       "      <td>3.109862</td>\n",
       "      <td>3.285714</td>\n",
       "      <td>1.567004e+06</td>\n",
       "    </tr>\n",
       "    <tr>\n",
       "      <th>Cottage</th>\n",
       "      <td>1767.420000</td>\n",
       "      <td>2.905512</td>\n",
       "      <td>1.510363</td>\n",
       "      <td>2.542714</td>\n",
       "      <td>1.307817e+06</td>\n",
       "    </tr>\n",
       "  </tbody>\n",
       "</table>\n",
       "</div>"
      ],
      "text/plain": [
       "                               ID   bedroom  bathroom  parking_space  \\\n",
       "title                                                                  \n",
       "Mansion               4882.914523  4.333929  3.197880       3.115114   \n",
       "Penthouse             4945.607963  4.342982  2.986667       3.225177   \n",
       "Detached duplex       5002.801067  4.327840  3.232270       3.230906   \n",
       "Townhouse             5084.376036  4.298759  3.165789       3.175454   \n",
       "Terrace duplex        5152.398894  4.340639  3.292616       3.178505   \n",
       "Semi-detached duplex  4980.161663  4.414903  3.194770       3.202912   \n",
       "Bungalow              5005.518948  4.402852  3.394664       3.192619   \n",
       "Flat                  4852.685860  4.378877  3.188295       3.146486   \n",
       "Apartment             4940.278738  4.344219  3.109862       3.285714   \n",
       "Cottage               1767.420000  2.905512  1.510363       2.542714   \n",
       "\n",
       "                             price  \n",
       "title                               \n",
       "Mansion               3.725768e+06  \n",
       "Penthouse             2.628945e+06  \n",
       "Detached duplex       2.205883e+06  \n",
       "Townhouse             2.056125e+06  \n",
       "Terrace duplex        1.927270e+06  \n",
       "Semi-detached duplex  1.918468e+06  \n",
       "Bungalow              1.733845e+06  \n",
       "Flat                  1.721875e+06  \n",
       "Apartment             1.567004e+06  \n",
       "Cottage               1.307817e+06  "
      ]
     },
     "execution_count": 14,
     "metadata": {},
     "output_type": "execute_result"
    }
   ],
   "source": [
    "# Looking at average property price by property type\n",
    "\n",
    "train.groupby(by=[\"title\"]).mean().sort_values(by='price', ascending=False)"
   ]
  },
  {
   "cell_type": "markdown",
   "metadata": {},
   "source": [
    "From the above grouping of `property by prices`, it's obvious that `Mansions` are the `most expensive` properties with average prices close to `N4million`. This is closely followed by `Penthouse` at over `N2.6million` and `Detached duplexes` costing over `N2million` on average. The `least expensive` properties are `flats` with average price at `N1.7million`, `Apartments` at `N1.6million` and `Cottages` costing around `N1.3million` on average."
   ]
  },
  {
   "cell_type": "code",
   "execution_count": 15,
   "metadata": {},
   "outputs": [
    {
     "data": {
      "text/html": [
       "<div>\n",
       "<style scoped>\n",
       "    .dataframe tbody tr th:only-of-type {\n",
       "        vertical-align: middle;\n",
       "    }\n",
       "\n",
       "    .dataframe tbody tr th {\n",
       "        vertical-align: top;\n",
       "    }\n",
       "\n",
       "    .dataframe thead th {\n",
       "        text-align: right;\n",
       "    }\n",
       "</style>\n",
       "<table border=\"1\" class=\"dataframe\">\n",
       "  <thead>\n",
       "    <tr style=\"text-align: right;\">\n",
       "      <th></th>\n",
       "      <th>ID</th>\n",
       "      <th>bedroom</th>\n",
       "      <th>bathroom</th>\n",
       "      <th>parking_space</th>\n",
       "      <th>price</th>\n",
       "    </tr>\n",
       "    <tr>\n",
       "      <th>loc</th>\n",
       "      <th></th>\n",
       "      <th></th>\n",
       "      <th></th>\n",
       "      <th></th>\n",
       "      <th></th>\n",
       "    </tr>\n",
       "  </thead>\n",
       "  <tbody>\n",
       "    <tr>\n",
       "      <th>Lagos</th>\n",
       "      <td>4885.307927</td>\n",
       "      <td>4.320557</td>\n",
       "      <td>3.090301</td>\n",
       "      <td>3.042857</td>\n",
       "      <td>4.210546e+06</td>\n",
       "    </tr>\n",
       "    <tr>\n",
       "      <th>Bayelsa</th>\n",
       "      <td>4946.014706</td>\n",
       "      <td>4.429530</td>\n",
       "      <td>3.231293</td>\n",
       "      <td>3.044068</td>\n",
       "      <td>3.112322e+06</td>\n",
       "    </tr>\n",
       "    <tr>\n",
       "      <th>Rivers</th>\n",
       "      <td>4886.061920</td>\n",
       "      <td>4.293706</td>\n",
       "      <td>3.240143</td>\n",
       "      <td>3.196364</td>\n",
       "      <td>2.957098e+06</td>\n",
       "    </tr>\n",
       "    <tr>\n",
       "      <th>Akwa Ibom</th>\n",
       "      <td>4781.866261</td>\n",
       "      <td>4.275261</td>\n",
       "      <td>3.090592</td>\n",
       "      <td>3.142349</td>\n",
       "      <td>2.725454e+06</td>\n",
       "    </tr>\n",
       "    <tr>\n",
       "      <th>Delta</th>\n",
       "      <td>4699.012308</td>\n",
       "      <td>4.197802</td>\n",
       "      <td>3.119718</td>\n",
       "      <td>3.135714</td>\n",
       "      <td>2.712493e+06</td>\n",
       "    </tr>\n",
       "    <tr>\n",
       "      <th>Ogun</th>\n",
       "      <td>4875.284058</td>\n",
       "      <td>4.366667</td>\n",
       "      <td>3.031250</td>\n",
       "      <td>3.135889</td>\n",
       "      <td>2.564020e+06</td>\n",
       "    </tr>\n",
       "    <tr>\n",
       "      <th>Cross River</th>\n",
       "      <td>4874.942693</td>\n",
       "      <td>4.496667</td>\n",
       "      <td>3.124567</td>\n",
       "      <td>3.118644</td>\n",
       "      <td>2.507765e+06</td>\n",
       "    </tr>\n",
       "    <tr>\n",
       "      <th>Anambra</th>\n",
       "      <td>4951.118457</td>\n",
       "      <td>4.078689</td>\n",
       "      <td>3.058065</td>\n",
       "      <td>3.279365</td>\n",
       "      <td>2.337230e+06</td>\n",
       "    </tr>\n",
       "    <tr>\n",
       "      <th>Edo</th>\n",
       "      <td>5199.976821</td>\n",
       "      <td>4.351351</td>\n",
       "      <td>3.153846</td>\n",
       "      <td>3.386364</td>\n",
       "      <td>2.310452e+06</td>\n",
       "    </tr>\n",
       "    <tr>\n",
       "      <th>Oyo</th>\n",
       "      <td>4707.375367</td>\n",
       "      <td>4.435811</td>\n",
       "      <td>3.128114</td>\n",
       "      <td>3.324324</td>\n",
       "      <td>2.293159e+06</td>\n",
       "    </tr>\n",
       "    <tr>\n",
       "      <th>Ondo</th>\n",
       "      <td>4755.183140</td>\n",
       "      <td>4.213793</td>\n",
       "      <td>2.951890</td>\n",
       "      <td>3.078498</td>\n",
       "      <td>2.277494e+06</td>\n",
       "    </tr>\n",
       "    <tr>\n",
       "      <th>Enugu</th>\n",
       "      <td>5332.651235</td>\n",
       "      <td>4.210145</td>\n",
       "      <td>3.461255</td>\n",
       "      <td>3.315412</td>\n",
       "      <td>2.272887e+06</td>\n",
       "    </tr>\n",
       "    <tr>\n",
       "      <th>Osun</th>\n",
       "      <td>5083.420118</td>\n",
       "      <td>4.508711</td>\n",
       "      <td>3.133094</td>\n",
       "      <td>3.287197</td>\n",
       "      <td>2.180570e+06</td>\n",
       "    </tr>\n",
       "    <tr>\n",
       "      <th>Ekiti</th>\n",
       "      <td>5074.547619</td>\n",
       "      <td>4.588629</td>\n",
       "      <td>3.063604</td>\n",
       "      <td>3.124555</td>\n",
       "      <td>2.109220e+06</td>\n",
       "    </tr>\n",
       "    <tr>\n",
       "      <th>Kano</th>\n",
       "      <td>5120.173789</td>\n",
       "      <td>4.358306</td>\n",
       "      <td>3.254839</td>\n",
       "      <td>3.078231</td>\n",
       "      <td>2.081931e+06</td>\n",
       "    </tr>\n",
       "    <tr>\n",
       "      <th>Imo</th>\n",
       "      <td>4673.002874</td>\n",
       "      <td>3.996575</td>\n",
       "      <td>3.141914</td>\n",
       "      <td>3.215232</td>\n",
       "      <td>2.067489e+06</td>\n",
       "    </tr>\n",
       "    <tr>\n",
       "      <th>Nasarawa</th>\n",
       "      <td>4737.756447</td>\n",
       "      <td>4.210000</td>\n",
       "      <td>3.121212</td>\n",
       "      <td>3.293333</td>\n",
       "      <td>2.061764e+06</td>\n",
       "    </tr>\n",
       "    <tr>\n",
       "      <th>Katsina</th>\n",
       "      <td>5084.710145</td>\n",
       "      <td>4.489655</td>\n",
       "      <td>3.262069</td>\n",
       "      <td>3.148148</td>\n",
       "      <td>1.947589e+06</td>\n",
       "    </tr>\n",
       "    <tr>\n",
       "      <th>Plateau</th>\n",
       "      <td>5201.920118</td>\n",
       "      <td>4.364583</td>\n",
       "      <td>3.083045</td>\n",
       "      <td>3.261017</td>\n",
       "      <td>1.942316e+06</td>\n",
       "    </tr>\n",
       "    <tr>\n",
       "      <th>Benue</th>\n",
       "      <td>5062.014085</td>\n",
       "      <td>4.216828</td>\n",
       "      <td>3.268212</td>\n",
       "      <td>3.195364</td>\n",
       "      <td>1.920461e+06</td>\n",
       "    </tr>\n",
       "    <tr>\n",
       "      <th>Adamawa</th>\n",
       "      <td>4405.217009</td>\n",
       "      <td>4.269625</td>\n",
       "      <td>3.020408</td>\n",
       "      <td>3.087108</td>\n",
       "      <td>1.905287e+06</td>\n",
       "    </tr>\n",
       "    <tr>\n",
       "      <th>Kwara</th>\n",
       "      <td>4882.243243</td>\n",
       "      <td>4.357143</td>\n",
       "      <td>3.093426</td>\n",
       "      <td>2.963899</td>\n",
       "      <td>1.903424e+06</td>\n",
       "    </tr>\n",
       "    <tr>\n",
       "      <th>Niger</th>\n",
       "      <td>4994.663636</td>\n",
       "      <td>4.282528</td>\n",
       "      <td>3.189655</td>\n",
       "      <td>3.187500</td>\n",
       "      <td>1.885325e+06</td>\n",
       "    </tr>\n",
       "    <tr>\n",
       "      <th>Gombe</th>\n",
       "      <td>4430.145773</td>\n",
       "      <td>4.324232</td>\n",
       "      <td>3.003300</td>\n",
       "      <td>3.229730</td>\n",
       "      <td>1.860851e+06</td>\n",
       "    </tr>\n",
       "    <tr>\n",
       "      <th>Taraba</th>\n",
       "      <td>4795.965079</td>\n",
       "      <td>4.438202</td>\n",
       "      <td>3.128676</td>\n",
       "      <td>3.131387</td>\n",
       "      <td>1.855306e+06</td>\n",
       "    </tr>\n",
       "    <tr>\n",
       "      <th>Kaduna</th>\n",
       "      <td>4839.864865</td>\n",
       "      <td>4.137931</td>\n",
       "      <td>3.006211</td>\n",
       "      <td>3.127329</td>\n",
       "      <td>1.846993e+06</td>\n",
       "    </tr>\n",
       "    <tr>\n",
       "      <th>Bauchi</th>\n",
       "      <td>4831.602339</td>\n",
       "      <td>4.435714</td>\n",
       "      <td>3.359060</td>\n",
       "      <td>3.130872</td>\n",
       "      <td>1.772961e+06</td>\n",
       "    </tr>\n",
       "    <tr>\n",
       "      <th>Kogi</th>\n",
       "      <td>4702.323988</td>\n",
       "      <td>4.365672</td>\n",
       "      <td>2.992806</td>\n",
       "      <td>3.025641</td>\n",
       "      <td>1.763416e+06</td>\n",
       "    </tr>\n",
       "    <tr>\n",
       "      <th>Yobe</th>\n",
       "      <td>4608.980170</td>\n",
       "      <td>4.250000</td>\n",
       "      <td>3.016340</td>\n",
       "      <td>3.162252</td>\n",
       "      <td>1.747938e+06</td>\n",
       "    </tr>\n",
       "    <tr>\n",
       "      <th>Jigawa</th>\n",
       "      <td>4942.035608</td>\n",
       "      <td>4.291096</td>\n",
       "      <td>3.190311</td>\n",
       "      <td>3.042705</td>\n",
       "      <td>1.735867e+06</td>\n",
       "    </tr>\n",
       "    <tr>\n",
       "      <th>Borno</th>\n",
       "      <td>5075.663818</td>\n",
       "      <td>4.391892</td>\n",
       "      <td>3.131313</td>\n",
       "      <td>3.105263</td>\n",
       "      <td>1.735704e+06</td>\n",
       "    </tr>\n",
       "    <tr>\n",
       "      <th>Abia</th>\n",
       "      <td>5055.266026</td>\n",
       "      <td>4.131387</td>\n",
       "      <td>3.137931</td>\n",
       "      <td>3.373134</td>\n",
       "      <td>1.717083e+06</td>\n",
       "    </tr>\n",
       "    <tr>\n",
       "      <th>Zamfara</th>\n",
       "      <td>4574.456897</td>\n",
       "      <td>4.270270</td>\n",
       "      <td>3.312704</td>\n",
       "      <td>3.104730</td>\n",
       "      <td>1.689541e+06</td>\n",
       "    </tr>\n",
       "    <tr>\n",
       "      <th>Sokoto</th>\n",
       "      <td>5073.720859</td>\n",
       "      <td>4.203448</td>\n",
       "      <td>3.211111</td>\n",
       "      <td>3.170909</td>\n",
       "      <td>1.681016e+06</td>\n",
       "    </tr>\n",
       "    <tr>\n",
       "      <th>Ebonyi</th>\n",
       "      <td>4429.277457</td>\n",
       "      <td>4.003356</td>\n",
       "      <td>2.945205</td>\n",
       "      <td>3.062500</td>\n",
       "      <td>1.635850e+06</td>\n",
       "    </tr>\n",
       "    <tr>\n",
       "      <th>Kebbi</th>\n",
       "      <td>4813.271676</td>\n",
       "      <td>4.450512</td>\n",
       "      <td>3.096886</td>\n",
       "      <td>3.172757</td>\n",
       "      <td>1.616372e+06</td>\n",
       "    </tr>\n",
       "  </tbody>\n",
       "</table>\n",
       "</div>"
      ],
      "text/plain": [
       "                      ID   bedroom  bathroom  parking_space         price\n",
       "loc                                                                      \n",
       "Lagos        4885.307927  4.320557  3.090301       3.042857  4.210546e+06\n",
       "Bayelsa      4946.014706  4.429530  3.231293       3.044068  3.112322e+06\n",
       "Rivers       4886.061920  4.293706  3.240143       3.196364  2.957098e+06\n",
       "Akwa Ibom    4781.866261  4.275261  3.090592       3.142349  2.725454e+06\n",
       "Delta        4699.012308  4.197802  3.119718       3.135714  2.712493e+06\n",
       "Ogun         4875.284058  4.366667  3.031250       3.135889  2.564020e+06\n",
       "Cross River  4874.942693  4.496667  3.124567       3.118644  2.507765e+06\n",
       "Anambra      4951.118457  4.078689  3.058065       3.279365  2.337230e+06\n",
       "Edo          5199.976821  4.351351  3.153846       3.386364  2.310452e+06\n",
       "Oyo          4707.375367  4.435811  3.128114       3.324324  2.293159e+06\n",
       "Ondo         4755.183140  4.213793  2.951890       3.078498  2.277494e+06\n",
       "Enugu        5332.651235  4.210145  3.461255       3.315412  2.272887e+06\n",
       "Osun         5083.420118  4.508711  3.133094       3.287197  2.180570e+06\n",
       "Ekiti        5074.547619  4.588629  3.063604       3.124555  2.109220e+06\n",
       "Kano         5120.173789  4.358306  3.254839       3.078231  2.081931e+06\n",
       "Imo          4673.002874  3.996575  3.141914       3.215232  2.067489e+06\n",
       "Nasarawa     4737.756447  4.210000  3.121212       3.293333  2.061764e+06\n",
       "Katsina      5084.710145  4.489655  3.262069       3.148148  1.947589e+06\n",
       "Plateau      5201.920118  4.364583  3.083045       3.261017  1.942316e+06\n",
       "Benue        5062.014085  4.216828  3.268212       3.195364  1.920461e+06\n",
       "Adamawa      4405.217009  4.269625  3.020408       3.087108  1.905287e+06\n",
       "Kwara        4882.243243  4.357143  3.093426       2.963899  1.903424e+06\n",
       "Niger        4994.663636  4.282528  3.189655       3.187500  1.885325e+06\n",
       "Gombe        4430.145773  4.324232  3.003300       3.229730  1.860851e+06\n",
       "Taraba       4795.965079  4.438202  3.128676       3.131387  1.855306e+06\n",
       "Kaduna       4839.864865  4.137931  3.006211       3.127329  1.846993e+06\n",
       "Bauchi       4831.602339  4.435714  3.359060       3.130872  1.772961e+06\n",
       "Kogi         4702.323988  4.365672  2.992806       3.025641  1.763416e+06\n",
       "Yobe         4608.980170  4.250000  3.016340       3.162252  1.747938e+06\n",
       "Jigawa       4942.035608  4.291096  3.190311       3.042705  1.735867e+06\n",
       "Borno        5075.663818  4.391892  3.131313       3.105263  1.735704e+06\n",
       "Abia         5055.266026  4.131387  3.137931       3.373134  1.717083e+06\n",
       "Zamfara      4574.456897  4.270270  3.312704       3.104730  1.689541e+06\n",
       "Sokoto       5073.720859  4.203448  3.211111       3.170909  1.681016e+06\n",
       "Ebonyi       4429.277457  4.003356  2.945205       3.062500  1.635850e+06\n",
       "Kebbi        4813.271676  4.450512  3.096886       3.172757  1.616372e+06"
      ]
     },
     "execution_count": 15,
     "metadata": {},
     "output_type": "execute_result"
    }
   ],
   "source": [
    "# Looking at average property price by location\n",
    "\n",
    "train.groupby(by=[\"loc\"]).mean().sort_values(by='price', ascending=False)"
   ]
  },
  {
   "cell_type": "markdown",
   "metadata": {},
   "source": [
    "`Location` of a property seem to be a factor on the price of the property. Apparently, properties in `Lagos`, `Bayelsa` and `Rivers` tend to be `more expensive` than from any other parts of the country. Similarly, `Sokoto`, `Ebonyi` and `Kebbi` tend to complete the bottom list of states with the `least expensive` property prices, on average."
   ]
  },
  {
   "cell_type": "code",
   "execution_count": 16,
   "metadata": {},
   "outputs": [
    {
     "data": {
      "text/html": [
       "<div>\n",
       "<style scoped>\n",
       "    .dataframe tbody tr th:only-of-type {\n",
       "        vertical-align: middle;\n",
       "    }\n",
       "\n",
       "    .dataframe tbody tr th {\n",
       "        vertical-align: top;\n",
       "    }\n",
       "\n",
       "    .dataframe thead th {\n",
       "        text-align: right;\n",
       "    }\n",
       "</style>\n",
       "<table border=\"1\" class=\"dataframe\">\n",
       "  <thead>\n",
       "    <tr style=\"text-align: right;\">\n",
       "      <th></th>\n",
       "      <th></th>\n",
       "      <th>ID</th>\n",
       "      <th>bedroom</th>\n",
       "      <th>bathroom</th>\n",
       "      <th>parking_space</th>\n",
       "      <th>price</th>\n",
       "    </tr>\n",
       "    <tr>\n",
       "      <th>loc</th>\n",
       "      <th>title</th>\n",
       "      <th></th>\n",
       "      <th></th>\n",
       "      <th></th>\n",
       "      <th></th>\n",
       "      <th></th>\n",
       "    </tr>\n",
       "  </thead>\n",
       "  <tbody>\n",
       "    <tr>\n",
       "      <th>Lagos</th>\n",
       "      <th>Mansion</th>\n",
       "      <td>5813.303030</td>\n",
       "      <td>4.275862</td>\n",
       "      <td>3.448276</td>\n",
       "      <td>3.296296</td>\n",
       "      <td>7.933719e+06</td>\n",
       "    </tr>\n",
       "    <tr>\n",
       "      <th>Rivers</th>\n",
       "      <th>Mansion</th>\n",
       "      <td>4994.500000</td>\n",
       "      <td>4.843750</td>\n",
       "      <td>2.906250</td>\n",
       "      <td>3.666667</td>\n",
       "      <td>5.424667e+06</td>\n",
       "    </tr>\n",
       "    <tr>\n",
       "      <th>Bayelsa</th>\n",
       "      <th>Mansion</th>\n",
       "      <td>3894.800000</td>\n",
       "      <td>4.151515</td>\n",
       "      <td>3.625000</td>\n",
       "      <td>2.973684</td>\n",
       "      <td>5.116608e+06</td>\n",
       "    </tr>\n",
       "    <tr>\n",
       "      <th>Delta</th>\n",
       "      <th>Mansion</th>\n",
       "      <td>5033.454545</td>\n",
       "      <td>4.227273</td>\n",
       "      <td>4.000000</td>\n",
       "      <td>2.965517</td>\n",
       "      <td>4.722360e+06</td>\n",
       "    </tr>\n",
       "    <tr>\n",
       "      <th>Lagos</th>\n",
       "      <th>Penthouse</th>\n",
       "      <td>5302.388889</td>\n",
       "      <td>3.575758</td>\n",
       "      <td>3.187500</td>\n",
       "      <td>3.533333</td>\n",
       "      <td>4.707955e+06</td>\n",
       "    </tr>\n",
       "    <tr>\n",
       "      <th>Ogun</th>\n",
       "      <th>Mansion</th>\n",
       "      <td>4288.483871</td>\n",
       "      <td>4.392857</td>\n",
       "      <td>2.307692</td>\n",
       "      <td>2.541667</td>\n",
       "      <td>4.570328e+06</td>\n",
       "    </tr>\n",
       "    <tr>\n",
       "      <th>Lagos</th>\n",
       "      <th>Detached duplex</th>\n",
       "      <td>4085.720000</td>\n",
       "      <td>4.565217</td>\n",
       "      <td>3.043478</td>\n",
       "      <td>3.100000</td>\n",
       "      <td>4.552806e+06</td>\n",
       "    </tr>\n",
       "    <tr>\n",
       "      <th>Cross River</th>\n",
       "      <th>Mansion</th>\n",
       "      <td>5574.142857</td>\n",
       "      <td>5.111111</td>\n",
       "      <td>3.250000</td>\n",
       "      <td>3.185185</td>\n",
       "      <td>4.401151e+06</td>\n",
       "    </tr>\n",
       "    <tr>\n",
       "      <th>Akwa Ibom</th>\n",
       "      <th>Mansion</th>\n",
       "      <td>3925.464286</td>\n",
       "      <td>3.961538</td>\n",
       "      <td>2.227273</td>\n",
       "      <td>2.600000</td>\n",
       "      <td>4.373729e+06</td>\n",
       "    </tr>\n",
       "    <tr>\n",
       "      <th>Anambra</th>\n",
       "      <th>Mansion</th>\n",
       "      <td>5369.450000</td>\n",
       "      <td>5.100000</td>\n",
       "      <td>3.781250</td>\n",
       "      <td>3.108108</td>\n",
       "      <td>4.281431e+06</td>\n",
       "    </tr>\n",
       "    <tr>\n",
       "      <th>Oyo</th>\n",
       "      <th>Mansion</th>\n",
       "      <td>5377.838710</td>\n",
       "      <td>4.586207</td>\n",
       "      <td>3.304348</td>\n",
       "      <td>3.392857</td>\n",
       "      <td>4.240542e+06</td>\n",
       "    </tr>\n",
       "    <tr>\n",
       "      <th>Edo</th>\n",
       "      <th>Mansion</th>\n",
       "      <td>5011.038462</td>\n",
       "      <td>4.681818</td>\n",
       "      <td>3.136364</td>\n",
       "      <td>3.818182</td>\n",
       "      <td>4.117043e+06</td>\n",
       "    </tr>\n",
       "    <tr>\n",
       "      <th>Enugu</th>\n",
       "      <th>Mansion</th>\n",
       "      <td>5473.758621</td>\n",
       "      <td>3.954545</td>\n",
       "      <td>3.880000</td>\n",
       "      <td>3.217391</td>\n",
       "      <td>3.951273e+06</td>\n",
       "    </tr>\n",
       "    <tr>\n",
       "      <th>Lagos</th>\n",
       "      <th>Cottage</th>\n",
       "      <td>1917.363636</td>\n",
       "      <td>2.750000</td>\n",
       "      <td>1.454545</td>\n",
       "      <td>2.571429</td>\n",
       "      <td>3.897695e+06</td>\n",
       "    </tr>\n",
       "    <tr>\n",
       "      <th>Nasarawa</th>\n",
       "      <th>Mansion</th>\n",
       "      <td>4765.740741</td>\n",
       "      <td>3.950000</td>\n",
       "      <td>4.045455</td>\n",
       "      <td>3.391304</td>\n",
       "      <td>3.876517e+06</td>\n",
       "    </tr>\n",
       "    <tr>\n",
       "      <th>Ondo</th>\n",
       "      <th>Mansion</th>\n",
       "      <td>6037.111111</td>\n",
       "      <td>3.880000</td>\n",
       "      <td>2.952381</td>\n",
       "      <td>3.000000</td>\n",
       "      <td>3.864718e+06</td>\n",
       "    </tr>\n",
       "    <tr>\n",
       "      <th>Lagos</th>\n",
       "      <th>Semi-detached duplex</th>\n",
       "      <td>6025.906250</td>\n",
       "      <td>5.555556</td>\n",
       "      <td>3.666667</td>\n",
       "      <td>2.629630</td>\n",
       "      <td>3.715217e+06</td>\n",
       "    </tr>\n",
       "    <tr>\n",
       "      <th>Bayelsa</th>\n",
       "      <th>Penthouse</th>\n",
       "      <td>5917.740741</td>\n",
       "      <td>3.800000</td>\n",
       "      <td>3.720000</td>\n",
       "      <td>3.136364</td>\n",
       "      <td>3.706900e+06</td>\n",
       "    </tr>\n",
       "    <tr>\n",
       "      <th>Imo</th>\n",
       "      <th>Mansion</th>\n",
       "      <td>5055.558824</td>\n",
       "      <td>4.200000</td>\n",
       "      <td>3.451613</td>\n",
       "      <td>3.653846</td>\n",
       "      <td>3.625329e+06</td>\n",
       "    </tr>\n",
       "    <tr>\n",
       "      <th>Rivers</th>\n",
       "      <th>Penthouse</th>\n",
       "      <td>5471.304348</td>\n",
       "      <td>4.000000</td>\n",
       "      <td>3.363636</td>\n",
       "      <td>3.500000</td>\n",
       "      <td>3.625144e+06</td>\n",
       "    </tr>\n",
       "  </tbody>\n",
       "</table>\n",
       "</div>"
      ],
      "text/plain": [
       "                                           ID   bedroom  bathroom  \\\n",
       "loc         title                                                   \n",
       "Lagos       Mansion               5813.303030  4.275862  3.448276   \n",
       "Rivers      Mansion               4994.500000  4.843750  2.906250   \n",
       "Bayelsa     Mansion               3894.800000  4.151515  3.625000   \n",
       "Delta       Mansion               5033.454545  4.227273  4.000000   \n",
       "Lagos       Penthouse             5302.388889  3.575758  3.187500   \n",
       "Ogun        Mansion               4288.483871  4.392857  2.307692   \n",
       "Lagos       Detached duplex       4085.720000  4.565217  3.043478   \n",
       "Cross River Mansion               5574.142857  5.111111  3.250000   \n",
       "Akwa Ibom   Mansion               3925.464286  3.961538  2.227273   \n",
       "Anambra     Mansion               5369.450000  5.100000  3.781250   \n",
       "Oyo         Mansion               5377.838710  4.586207  3.304348   \n",
       "Edo         Mansion               5011.038462  4.681818  3.136364   \n",
       "Enugu       Mansion               5473.758621  3.954545  3.880000   \n",
       "Lagos       Cottage               1917.363636  2.750000  1.454545   \n",
       "Nasarawa    Mansion               4765.740741  3.950000  4.045455   \n",
       "Ondo        Mansion               6037.111111  3.880000  2.952381   \n",
       "Lagos       Semi-detached duplex  6025.906250  5.555556  3.666667   \n",
       "Bayelsa     Penthouse             5917.740741  3.800000  3.720000   \n",
       "Imo         Mansion               5055.558824  4.200000  3.451613   \n",
       "Rivers      Penthouse             5471.304348  4.000000  3.363636   \n",
       "\n",
       "                                  parking_space         price  \n",
       "loc         title                                              \n",
       "Lagos       Mansion                    3.296296  7.933719e+06  \n",
       "Rivers      Mansion                    3.666667  5.424667e+06  \n",
       "Bayelsa     Mansion                    2.973684  5.116608e+06  \n",
       "Delta       Mansion                    2.965517  4.722360e+06  \n",
       "Lagos       Penthouse                  3.533333  4.707955e+06  \n",
       "Ogun        Mansion                    2.541667  4.570328e+06  \n",
       "Lagos       Detached duplex            3.100000  4.552806e+06  \n",
       "Cross River Mansion                    3.185185  4.401151e+06  \n",
       "Akwa Ibom   Mansion                    2.600000  4.373729e+06  \n",
       "Anambra     Mansion                    3.108108  4.281431e+06  \n",
       "Oyo         Mansion                    3.392857  4.240542e+06  \n",
       "Edo         Mansion                    3.818182  4.117043e+06  \n",
       "Enugu       Mansion                    3.217391  3.951273e+06  \n",
       "Lagos       Cottage                    2.571429  3.897695e+06  \n",
       "Nasarawa    Mansion                    3.391304  3.876517e+06  \n",
       "Ondo        Mansion                    3.000000  3.864718e+06  \n",
       "Lagos       Semi-detached duplex       2.629630  3.715217e+06  \n",
       "Bayelsa     Penthouse                  3.136364  3.706900e+06  \n",
       "Imo         Mansion                    3.653846  3.625329e+06  \n",
       "Rivers      Penthouse                  3.500000  3.625144e+06  "
      ]
     },
     "execution_count": 16,
     "metadata": {},
     "output_type": "execute_result"
    }
   ],
   "source": [
    "# Drilling down to see average property price by location and type of property\n",
    "\n",
    "train.groupby(by=[\"loc\", \"title\"]).mean().sort_values(by='price', ascending=False).head(20)"
   ]
  },
  {
   "cell_type": "markdown",
   "metadata": {},
   "source": [
    "Deep-diving to a more granular level to see `prices` across `location` and `property type`, `Mansions` in `Lagos` tend to be `more expensive` than any other property type across the country. This is closely followed by `Mansions` in `RIvers`, `Bayelsa` and `Delta` states. `Penthouse` in `Lagos` and `Mansions` and `Detached duplex` across `Lagos`, `Ogun`, `Cross River`, `Akwa Ibom` and `Anambra` makes the list of the `top 10` `locations` with the `most expensive` properties by `average prices`."
   ]
  },
  {
   "cell_type": "code",
   "execution_count": 17,
   "metadata": {},
   "outputs": [
    {
     "data": {
      "text/html": [
       "<div>\n",
       "<style scoped>\n",
       "    .dataframe tbody tr th:only-of-type {\n",
       "        vertical-align: middle;\n",
       "    }\n",
       "\n",
       "    .dataframe tbody tr th {\n",
       "        vertical-align: top;\n",
       "    }\n",
       "\n",
       "    .dataframe thead th {\n",
       "        text-align: right;\n",
       "    }\n",
       "</style>\n",
       "<table border=\"1\" class=\"dataframe\">\n",
       "  <thead>\n",
       "    <tr style=\"text-align: right;\">\n",
       "      <th></th>\n",
       "      <th></th>\n",
       "      <th>ID</th>\n",
       "      <th>bedroom</th>\n",
       "      <th>bathroom</th>\n",
       "      <th>parking_space</th>\n",
       "      <th>price</th>\n",
       "    </tr>\n",
       "    <tr>\n",
       "      <th>loc</th>\n",
       "      <th>title</th>\n",
       "      <th></th>\n",
       "      <th></th>\n",
       "      <th></th>\n",
       "      <th></th>\n",
       "      <th></th>\n",
       "    </tr>\n",
       "  </thead>\n",
       "  <tbody>\n",
       "    <tr>\n",
       "      <th>Niger</th>\n",
       "      <th>Cottage</th>\n",
       "      <td>1817.875000</td>\n",
       "      <td>3.333333</td>\n",
       "      <td>1.500000</td>\n",
       "      <td>2.000000</td>\n",
       "      <td>1.233016e+06</td>\n",
       "    </tr>\n",
       "    <tr>\n",
       "      <th>Zamfara</th>\n",
       "      <th>Cottage</th>\n",
       "      <td>1713.750000</td>\n",
       "      <td>3.600000</td>\n",
       "      <td>1.571429</td>\n",
       "      <td>3.333333</td>\n",
       "      <td>1.221300e+06</td>\n",
       "    </tr>\n",
       "    <tr>\n",
       "      <th>Katsina</th>\n",
       "      <th>Cottage</th>\n",
       "      <td>2005.100000</td>\n",
       "      <td>3.333333</td>\n",
       "      <td>1.400000</td>\n",
       "      <td>3.125000</td>\n",
       "      <td>1.221214e+06</td>\n",
       "    </tr>\n",
       "    <tr>\n",
       "      <th>Ebonyi</th>\n",
       "      <th>Apartment</th>\n",
       "      <td>3996.281250</td>\n",
       "      <td>3.964286</td>\n",
       "      <td>3.142857</td>\n",
       "      <td>3.269231</td>\n",
       "      <td>1.214168e+06</td>\n",
       "    </tr>\n",
       "    <tr>\n",
       "      <th>Taraba</th>\n",
       "      <th>Cottage</th>\n",
       "      <td>1580.250000</td>\n",
       "      <td>2.800000</td>\n",
       "      <td>1.700000</td>\n",
       "      <td>2.500000</td>\n",
       "      <td>1.178670e+06</td>\n",
       "    </tr>\n",
       "    <tr>\n",
       "      <th rowspan=\"2\" valign=\"top\">Bauchi</th>\n",
       "      <th>Apartment</th>\n",
       "      <td>4405.969697</td>\n",
       "      <td>3.370370</td>\n",
       "      <td>3.269231</td>\n",
       "      <td>3.035714</td>\n",
       "      <td>1.148336e+06</td>\n",
       "    </tr>\n",
       "    <tr>\n",
       "      <th>Cottage</th>\n",
       "      <td>2023.000000</td>\n",
       "      <td>3.142857</td>\n",
       "      <td>1.714286</td>\n",
       "      <td>3.142857</td>\n",
       "      <td>1.111651e+06</td>\n",
       "    </tr>\n",
       "    <tr>\n",
       "      <th>Borno</th>\n",
       "      <th>Cottage</th>\n",
       "      <td>1749.466667</td>\n",
       "      <td>3.428571</td>\n",
       "      <td>1.416667</td>\n",
       "      <td>2.466667</td>\n",
       "      <td>1.107902e+06</td>\n",
       "    </tr>\n",
       "    <tr>\n",
       "      <th>Adamawa</th>\n",
       "      <th>Cottage</th>\n",
       "      <td>1864.533333</td>\n",
       "      <td>2.250000</td>\n",
       "      <td>1.769231</td>\n",
       "      <td>2.692308</td>\n",
       "      <td>1.105364e+06</td>\n",
       "    </tr>\n",
       "    <tr>\n",
       "      <th>Benue</th>\n",
       "      <th>Cottage</th>\n",
       "      <td>1087.571429</td>\n",
       "      <td>2.166667</td>\n",
       "      <td>1.500000</td>\n",
       "      <td>2.666667</td>\n",
       "      <td>1.057327e+06</td>\n",
       "    </tr>\n",
       "    <tr>\n",
       "      <th>Sokoto</th>\n",
       "      <th>Cottage</th>\n",
       "      <td>2115.000000</td>\n",
       "      <td>2.900000</td>\n",
       "      <td>1.666667</td>\n",
       "      <td>1.800000</td>\n",
       "      <td>1.051132e+06</td>\n",
       "    </tr>\n",
       "    <tr>\n",
       "      <th>Ebonyi</th>\n",
       "      <th>Cottage</th>\n",
       "      <td>2180.692308</td>\n",
       "      <td>3.545455</td>\n",
       "      <td>1.500000</td>\n",
       "      <td>2.000000</td>\n",
       "      <td>1.042444e+06</td>\n",
       "    </tr>\n",
       "    <tr>\n",
       "      <th>Kano</th>\n",
       "      <th>Cottage</th>\n",
       "      <td>1775.142857</td>\n",
       "      <td>2.000000</td>\n",
       "      <td>1.400000</td>\n",
       "      <td>2.333333</td>\n",
       "      <td>1.029871e+06</td>\n",
       "    </tr>\n",
       "    <tr>\n",
       "      <th>Jigawa</th>\n",
       "      <th>Cottage</th>\n",
       "      <td>1680.100000</td>\n",
       "      <td>2.875000</td>\n",
       "      <td>1.375000</td>\n",
       "      <td>1.777778</td>\n",
       "      <td>1.015624e+06</td>\n",
       "    </tr>\n",
       "    <tr>\n",
       "      <th>Kogi</th>\n",
       "      <th>Cottage</th>\n",
       "      <td>1419.650000</td>\n",
       "      <td>3.357143</td>\n",
       "      <td>1.600000</td>\n",
       "      <td>2.611111</td>\n",
       "      <td>9.789937e+05</td>\n",
       "    </tr>\n",
       "    <tr>\n",
       "      <th>Yobe</th>\n",
       "      <th>Cottage</th>\n",
       "      <td>1738.384615</td>\n",
       "      <td>2.666667</td>\n",
       "      <td>1.333333</td>\n",
       "      <td>2.400000</td>\n",
       "      <td>9.527871e+05</td>\n",
       "    </tr>\n",
       "    <tr>\n",
       "      <th>Gombe</th>\n",
       "      <th>Cottage</th>\n",
       "      <td>1863.000000</td>\n",
       "      <td>3.000000</td>\n",
       "      <td>1.250000</td>\n",
       "      <td>2.125000</td>\n",
       "      <td>9.359590e+05</td>\n",
       "    </tr>\n",
       "    <tr>\n",
       "      <th>Kaduna</th>\n",
       "      <th>Cottage</th>\n",
       "      <td>1508.800000</td>\n",
       "      <td>2.500000</td>\n",
       "      <td>1.125000</td>\n",
       "      <td>3.222222</td>\n",
       "      <td>9.266389e+05</td>\n",
       "    </tr>\n",
       "    <tr>\n",
       "      <th>Abia</th>\n",
       "      <th>Cottage</th>\n",
       "      <td>1960.454545</td>\n",
       "      <td>2.636364</td>\n",
       "      <td>1.333333</td>\n",
       "      <td>1.900000</td>\n",
       "      <td>9.241519e+05</td>\n",
       "    </tr>\n",
       "    <tr>\n",
       "      <th>Kebbi</th>\n",
       "      <th>Cottage</th>\n",
       "      <td>1365.636364</td>\n",
       "      <td>3.714286</td>\n",
       "      <td>1.200000</td>\n",
       "      <td>2.636364</td>\n",
       "      <td>8.457938e+05</td>\n",
       "    </tr>\n",
       "  </tbody>\n",
       "</table>\n",
       "</div>"
      ],
      "text/plain": [
       "                            ID   bedroom  bathroom  parking_space  \\\n",
       "loc     title                                                       \n",
       "Niger   Cottage    1817.875000  3.333333  1.500000       2.000000   \n",
       "Zamfara Cottage    1713.750000  3.600000  1.571429       3.333333   \n",
       "Katsina Cottage    2005.100000  3.333333  1.400000       3.125000   \n",
       "Ebonyi  Apartment  3996.281250  3.964286  3.142857       3.269231   \n",
       "Taraba  Cottage    1580.250000  2.800000  1.700000       2.500000   \n",
       "Bauchi  Apartment  4405.969697  3.370370  3.269231       3.035714   \n",
       "        Cottage    2023.000000  3.142857  1.714286       3.142857   \n",
       "Borno   Cottage    1749.466667  3.428571  1.416667       2.466667   \n",
       "Adamawa Cottage    1864.533333  2.250000  1.769231       2.692308   \n",
       "Benue   Cottage    1087.571429  2.166667  1.500000       2.666667   \n",
       "Sokoto  Cottage    2115.000000  2.900000  1.666667       1.800000   \n",
       "Ebonyi  Cottage    2180.692308  3.545455  1.500000       2.000000   \n",
       "Kano    Cottage    1775.142857  2.000000  1.400000       2.333333   \n",
       "Jigawa  Cottage    1680.100000  2.875000  1.375000       1.777778   \n",
       "Kogi    Cottage    1419.650000  3.357143  1.600000       2.611111   \n",
       "Yobe    Cottage    1738.384615  2.666667  1.333333       2.400000   \n",
       "Gombe   Cottage    1863.000000  3.000000  1.250000       2.125000   \n",
       "Kaduna  Cottage    1508.800000  2.500000  1.125000       3.222222   \n",
       "Abia    Cottage    1960.454545  2.636364  1.333333       1.900000   \n",
       "Kebbi   Cottage    1365.636364  3.714286  1.200000       2.636364   \n",
       "\n",
       "                          price  \n",
       "loc     title                    \n",
       "Niger   Cottage    1.233016e+06  \n",
       "Zamfara Cottage    1.221300e+06  \n",
       "Katsina Cottage    1.221214e+06  \n",
       "Ebonyi  Apartment  1.214168e+06  \n",
       "Taraba  Cottage    1.178670e+06  \n",
       "Bauchi  Apartment  1.148336e+06  \n",
       "        Cottage    1.111651e+06  \n",
       "Borno   Cottage    1.107902e+06  \n",
       "Adamawa Cottage    1.105364e+06  \n",
       "Benue   Cottage    1.057327e+06  \n",
       "Sokoto  Cottage    1.051132e+06  \n",
       "Ebonyi  Cottage    1.042444e+06  \n",
       "Kano    Cottage    1.029871e+06  \n",
       "Jigawa  Cottage    1.015624e+06  \n",
       "Kogi    Cottage    9.789937e+05  \n",
       "Yobe    Cottage    9.527871e+05  \n",
       "Gombe   Cottage    9.359590e+05  \n",
       "Kaduna  Cottage    9.266389e+05  \n",
       "Abia    Cottage    9.241519e+05  \n",
       "Kebbi   Cottage    8.457938e+05  "
      ]
     },
     "execution_count": 17,
     "metadata": {},
     "output_type": "execute_result"
    }
   ],
   "source": [
    "# Average property price by location and type of property\n",
    "\n",
    "train.groupby(by=[\"loc\", \"title\"]).mean().sort_values(by='price', ascending=False).tail(20)"
   ]
  },
  {
   "cell_type": "markdown",
   "metadata": {},
   "source": [
    "On the flip side, `Cottages` in `Kogi`, `Yobe`, `Gombe`, `Kaduna`, `Abia` and `Kebbi` tend to top the list of the states with the `least expensive` properties by `average price`."
   ]
  },
  {
   "cell_type": "code",
   "execution_count": 18,
   "metadata": {},
   "outputs": [
    {
     "data": {
      "text/html": [
       "<div>\n",
       "<style scoped>\n",
       "    .dataframe tbody tr th:only-of-type {\n",
       "        vertical-align: middle;\n",
       "    }\n",
       "\n",
       "    .dataframe tbody tr th {\n",
       "        vertical-align: top;\n",
       "    }\n",
       "\n",
       "    .dataframe thead th {\n",
       "        text-align: right;\n",
       "    }\n",
       "</style>\n",
       "<table border=\"1\" class=\"dataframe\">\n",
       "  <thead>\n",
       "    <tr style=\"text-align: right;\">\n",
       "      <th></th>\n",
       "      <th>ID</th>\n",
       "      <th>bedroom</th>\n",
       "      <th>bathroom</th>\n",
       "      <th>parking_space</th>\n",
       "      <th>price</th>\n",
       "    </tr>\n",
       "  </thead>\n",
       "  <tbody>\n",
       "    <tr>\n",
       "      <th>ID</th>\n",
       "      <td>1.000000</td>\n",
       "      <td>0.230474</td>\n",
       "      <td>0.345121</td>\n",
       "      <td>0.165160</td>\n",
       "      <td>0.167093</td>\n",
       "    </tr>\n",
       "    <tr>\n",
       "      <th>bedroom</th>\n",
       "      <td>0.230474</td>\n",
       "      <td>1.000000</td>\n",
       "      <td>0.227417</td>\n",
       "      <td>0.111095</td>\n",
       "      <td>0.529145</td>\n",
       "    </tr>\n",
       "    <tr>\n",
       "      <th>bathroom</th>\n",
       "      <td>0.345121</td>\n",
       "      <td>0.227417</td>\n",
       "      <td>1.000000</td>\n",
       "      <td>0.178497</td>\n",
       "      <td>0.221544</td>\n",
       "    </tr>\n",
       "    <tr>\n",
       "      <th>parking_space</th>\n",
       "      <td>0.165160</td>\n",
       "      <td>0.111095</td>\n",
       "      <td>0.178497</td>\n",
       "      <td>1.000000</td>\n",
       "      <td>0.109211</td>\n",
       "    </tr>\n",
       "    <tr>\n",
       "      <th>price</th>\n",
       "      <td>0.167093</td>\n",
       "      <td>0.529145</td>\n",
       "      <td>0.221544</td>\n",
       "      <td>0.109211</td>\n",
       "      <td>1.000000</td>\n",
       "    </tr>\n",
       "  </tbody>\n",
       "</table>\n",
       "</div>"
      ],
      "text/plain": [
       "                     ID   bedroom  bathroom  parking_space     price\n",
       "ID             1.000000  0.230474  0.345121       0.165160  0.167093\n",
       "bedroom        0.230474  1.000000  0.227417       0.111095  0.529145\n",
       "bathroom       0.345121  0.227417  1.000000       0.178497  0.221544\n",
       "parking_space  0.165160  0.111095  0.178497       1.000000  0.109211\n",
       "price          0.167093  0.529145  0.221544       0.109211  1.000000"
      ]
     },
     "execution_count": 18,
     "metadata": {},
     "output_type": "execute_result"
    }
   ],
   "source": [
    "# Looking out for correlation/association among numerical variables\n",
    "\n",
    "train.corr()"
   ]
  },
  {
   "cell_type": "code",
   "execution_count": 19,
   "metadata": {},
   "outputs": [
    {
     "data": {
      "text/plain": [
       "Text(0.5, 1.0, 'Correlation_Heatmap')"
      ]
     },
     "execution_count": 19,
     "metadata": {},
     "output_type": "execute_result"
    },
    {
     "data": {
      "image/png": "[encoded data removed]",
      "text/plain": [
       "<Figure size 720x576 with 2 Axes>"
      ]
     },
     "metadata": {
      "needs_background": "light"
     },
     "output_type": "display_data"
    }
   ],
   "source": [
    "# Visualizing correlation with Heatmap\n",
    "\n",
    "plt.figure(figsize=(10, 8))\n",
    "sns.heatmap(train.corr(), annot=True).set_title(\"Correlation_Heatmap\", fontsize=17)"
   ]
  },
  {
   "cell_type": "markdown",
   "metadata": {},
   "source": [
    "From the `Correlation matrix` and `Heatmap`, a couple of relationship among variables could be established. There exists a `moderate positive` relationship `between` number of `bedrooms` and property `prices` - meaning the higher the number of bedrooms in a property, the more likely the price of the property will be higher. Similarly, there exists a `weak positive` correlation `between` number of `bathrooms` in a property and `price` of the property."
   ]
  },
  {
   "cell_type": "code",
   "execution_count": 20,
   "metadata": {},
   "outputs": [
    {
     "data": {
      "image/png": "[encoded data removed]",
      "text/plain": [
       "<Figure size 576x432 with 1 Axes>"
      ]
     },
     "metadata": {
      "needs_background": "light"
     },
     "output_type": "display_data"
    }
   ],
   "source": [
    "# Looking out for Outliers among numeric features\n",
    "\n",
    "features = [\"bedroom\", \"bathroom\", \"parking_space\"]\n",
    "plt.figure(figsize=(8, 6))\n",
    "\n",
    "sns.boxplot(data=train[features])\n",
    "plt.title(\"Boxplot of features\", fontsize=17)\n",
    "\n",
    "plt.grid(False)\n",
    "plt.show()"
   ]
  },
  {
   "cell_type": "markdown",
   "metadata": {},
   "source": [
    "From the above `Boxplot`, it's obvious the categorical features tend to have no `Outliers`"
   ]
  },
  {
   "cell_type": "code",
   "execution_count": 21,
   "metadata": {},
   "outputs": [
    {
     "data": {
      "image/png": "[encoded data removed]",
      "text/plain": [
       "<Figure size 576x360 with 1 Axes>"
      ]
     },
     "metadata": {
      "needs_background": "light"
     },
     "output_type": "display_data"
    }
   ],
   "source": [
    "# Visualizing property prices by number of bedrooms\n",
    "\n",
    "train.plot(kind='scatter', x='price', y='bedroom', color='blue', alpha=0.4, figsize=(8, 5))\n",
    "plt.title(\"Prices by Bedroom Sizes\", fontsize=17)\n",
    "\n",
    "plt.grid(False)\n",
    "plt.show()"
   ]
  },
  {
   "cell_type": "markdown",
   "metadata": {},
   "source": [
    "From the above `Scatter plot`, coupled with other factors, properties with `3` to `5` `bedrooms` tend to be `more expensive` than properties with much or less number of `bedrooms`"
   ]
  },
  {
   "cell_type": "code",
   "execution_count": 22,
   "metadata": {},
   "outputs": [
    {
     "data": {
      "image/png": "[encoded data removed]",
      "text/plain": [
       "<Figure size 576x360 with 1 Axes>"
      ]
     },
     "metadata": {
      "needs_background": "light"
     },
     "output_type": "display_data"
    }
   ],
   "source": [
    "# Visualizing property prices by number of bathrooms\n",
    "\n",
    "train.plot(kind='scatter', x='price', y='bathroom', color='blue', alpha=0.4, figsize=(8, 5))\n",
    "plt.title(\"Prices by Bathroom Sizes\", fontsize=17)\n",
    "\n",
    "plt.grid(False)\n",
    "plt.show()"
   ]
  },
  {
   "cell_type": "markdown",
   "metadata": {},
   "source": [
    "Similarly, some of the most expensive properties only have about `1` to `2` `bathrooms`"
   ]
  },
  {
   "cell_type": "code",
   "execution_count": 23,
   "metadata": {},
   "outputs": [
    {
     "data": {
      "image/png": "[encoded data removed]",
      "text/plain": [
       "<Figure size 576x360 with 1 Axes>"
      ]
     },
     "metadata": {
      "needs_background": "light"
     },
     "output_type": "display_data"
    }
   ],
   "source": [
    "# Visualizing property prices by number of parking spaces\n",
    "\n",
    "train.plot(kind='scatter', x='price', y='parking_space', color='blue', alpha=0.4, figsize=(8, 5))\n",
    "plt.title(\"Prices by Parking Spaces\", fontsize=17)\n",
    "\n",
    "plt.grid(False)\n",
    "plt.show()"
   ]
  },
  {
   "cell_type": "markdown",
   "metadata": {},
   "source": [
    "Looking at `Parking spaces`, some of the most expensive properties tend to have only about `1` to `3` parking spaces."
   ]
  },
  {
   "cell_type": "code",
   "execution_count": 24,
   "metadata": {},
   "outputs": [
    {
     "data": {
      "image/png": "[encoded data removed]",
      "text/plain": [
       "<Figure size 1440x720 with 6 Axes>"
      ]
     },
     "metadata": {
      "needs_background": "light"
     },
     "output_type": "display_data"
    }
   ],
   "source": [
    "# Looking at the distribution of columns in the train data\n",
    "\n",
    "train.hist(bins=50, color='blue', alpha=.7, figsize=(20, 10))\n",
    "plt.grid(True, alpha=.5)\n",
    "plt.show()"
   ]
  },
  {
   "cell_type": "markdown",
   "metadata": {},
   "source": [
    "Looking at the `distributions` counts of the `features`, number of `bedrooms` in most properties only number `between 1` to `5`, with very few `other properties` having `more than 5` bedrooms. Similarly, `most properties` do have only about `1` to `2 bathrooms`, and `few others` do have `more than 2` bathrooms. `Parking space` is another feature which is observed to be just `between 1` to `4` for `most property` with `few others` having `more than 4` parking spaces."
   ]
  },
  {
   "cell_type": "code",
   "execution_count": 25,
   "metadata": {},
   "outputs": [
    {
     "data": {
      "image/png": "[encoded data removed]",
      "text/plain": [
       "<Figure size 576x432 with 1 Axes>"
      ]
     },
     "metadata": {
      "needs_background": "light"
     },
     "output_type": "display_data"
    }
   ],
   "source": [
    "# Visualizing the distribution of the target variable (Price)\n",
    "\n",
    "plt.figure(figsize=(8, 6))\n",
    "sns.distplot(train['price'], kde=True, color='blue')\n",
    "\n",
    "plt.xlabel(\"Price\", fontsize=13)\n",
    "plt.ylabel(\"Frequency\", fontsize=13)\n",
    "plt.title(\"Distribution of Property Prices\", fontsize=17)\n",
    "\n",
    "plt.grid(False)\n",
    "plt.show()"
   ]
  },
  {
   "cell_type": "markdown",
   "metadata": {},
   "source": [
    "As earlier stated, the target variable (`price`) is relatively `normally distributed` with long heavy tails to the right suggesting the presence of `Outliers` as indicated by the `Leptokurtic` curve."
   ]
  },
  {
   "cell_type": "code",
   "execution_count": 26,
   "metadata": {},
   "outputs": [
    {
     "data": {
      "image/png": "[encoded data removed]",
      "text/plain": [
       "<Figure size 720x432 with 1 Axes>"
      ]
     },
     "metadata": {
      "needs_background": "light"
     },
     "output_type": "display_data"
    }
   ],
   "source": [
    "# Count of property by type\n",
    "\n",
    "plt.figure(figsize=(10, 6))\n",
    "sns.countplot(y=train['title'].explode(), order=train['title'].explode().value_counts().index)\n",
    "\n",
    "plt.ylabel('Property_type')\n",
    "plt.xlabel('Counts')\n",
    "plt.title('Property count by Type', fontsize=15)\n",
    "\n",
    "plt.yticks(rotation=0)\n",
    "plt.show()"
   ]
  },
  {
   "cell_type": "markdown",
   "metadata": {},
   "source": [
    "Looking at count of `property types` across states of the federation, there seem to be `more` of `Flats`, `Apartments` and `Townhouse`, than other form of structures, with `Cottage` being the `least` popular property type among property owners."
   ]
  },
  {
   "cell_type": "code",
   "execution_count": 27,
   "metadata": {},
   "outputs": [
    {
     "data": {
      "image/png": "[encoded data removed]",
      "text/plain": [
       "<Figure size 720x432 with 1 Axes>"
      ]
     },
     "metadata": {
      "needs_background": "light"
     },
     "output_type": "display_data"
    }
   ],
   "source": [
    "# Count of properties by location\n",
    "\n",
    "plt.figure(figsize=(10, 6))\n",
    "sns.countplot(y='loc', data=train, order=train['loc'].value_counts().head(10).index)\n",
    "\n",
    "plt.ylabel('Locations')\n",
    "plt.xlabel('Counts')\n",
    "plt.title('Property count by Location', fontsize=15)\n",
    "plt.show()"
   ]
  },
  {
   "cell_type": "markdown",
   "metadata": {},
   "source": [
    "Similarly, there seem to be more properties located in states like `Kaduna`, `Anambra` and `Benue` states. With least number of properties seen across locations like `Cross River`, `Zamfara` and `Imo` states respectively."
   ]
  },
  {
   "cell_type": "markdown",
   "metadata": {},
   "source": [
    "#### Feature Engineering/Data Preprocessing"
   ]
  },
  {
   "cell_type": "code",
   "execution_count": 28,
   "metadata": {},
   "outputs": [],
   "source": [
    "# Instantiating the Label Encoder class encode categorical variables\n",
    "\n",
    "label = LabelEncoder()"
   ]
  },
  {
   "cell_type": "code",
   "execution_count": 29,
   "metadata": {},
   "outputs": [
    {
     "data": {
      "text/plain": [
       "0        19\n",
       "1        27\n",
       "2        12\n",
       "3         3\n",
       "4        21\n",
       "         ..\n",
       "13995    11\n",
       "13996    17\n",
       "13997    30\n",
       "13998     9\n",
       "13999    24\n",
       "Name: loc, Length: 14000, dtype: int32"
      ]
     },
     "execution_count": 29,
     "metadata": {},
     "output_type": "execute_result"
    }
   ],
   "source": [
    "# Fitting and transforming the Location feature\n",
    "\n",
    "train['loc'] = label.fit_transform(train['loc'])\n",
    "train['loc']"
   ]
  },
  {
   "cell_type": "code",
   "execution_count": 30,
   "metadata": {},
   "outputs": [
    {
     "data": {
      "text/plain": [
       "0         7\n",
       "1         0\n",
       "2        10\n",
       "3         3\n",
       "4         8\n",
       "         ..\n",
       "13995     1\n",
       "13996     0\n",
       "13997     1\n",
       "13998     4\n",
       "13999    10\n",
       "Name: title, Length: 14000, dtype: int32"
      ]
     },
     "execution_count": 30,
     "metadata": {},
     "output_type": "execute_result"
    }
   ],
   "source": [
    "# Fitting and transforming the Property type feature\n",
    "\n",
    "train['title'] = label.fit_transform(train['title'])\n",
    "train['title']"
   ]
  },
  {
   "cell_type": "code",
   "execution_count": 31,
   "metadata": {},
   "outputs": [],
   "source": [
    "# Defining the feature variables\n",
    "\n",
    "x = train.drop(['ID', 'price'], axis=1)\n"
   ]
  },
  {
   "cell_type": "code",
   "execution_count": 32,
   "metadata": {},
   "outputs": [
    {
     "data": {
      "text/plain": [
       "array([[19.,  7.,  2.,  2.,  1.],\n",
       "       [27.,  0.,  5.,  2.,  4.],\n",
       "       [12., 10.,  7.,  5.,  4.],\n",
       "       ...,\n",
       "       [30.,  1.,  8.,  6.,  5.],\n",
       "       [ 9.,  4.,  5.,  6.,  1.],\n",
       "       [24., 10.,  9.,  7.,  5.]])"
      ]
     },
     "execution_count": 32,
     "metadata": {},
     "output_type": "execute_result"
    }
   ],
   "source": [
    "# Instantiating and imputting for missing values\n",
    "\n",
    "simple = SimpleImputer(strategy='most_frequent', missing_values=np.nan)\n",
    "X = simple.fit_transform(x)\n",
    "X"
   ]
  },
  {
   "cell_type": "code",
   "execution_count": 33,
   "metadata": {},
   "outputs": [
    {
     "data": {
      "text/plain": [
       "0        1149999.565\n",
       "1        1672416.689\n",
       "2        3364799.814\n",
       "3        2410306.756\n",
       "4        2600700.898\n",
       "            ...     \n",
       "13995    2367927.861\n",
       "13996    2228516.471\n",
       "13997    2406812.693\n",
       "13998    3348918.718\n",
       "13999    2858516.890\n",
       "Name: price, Length: 14000, dtype: float64"
      ]
     },
     "execution_count": 33,
     "metadata": {},
     "output_type": "execute_result"
    }
   ],
   "source": [
    "# The target variable\n",
    "\n",
    "y = train['price']\n",
    "y"
   ]
  },
  {
   "cell_type": "code",
   "execution_count": 34,
   "metadata": {},
   "outputs": [],
   "source": [
    "# Training and testing of features and target data\n",
    "\n",
    "X_train, X_test, y_train, y_test = train_test_split(X, y, test_size=.20, random_state=11)"
   ]
  },
  {
   "cell_type": "code",
   "execution_count": 35,
   "metadata": {},
   "outputs": [],
   "source": [
    "# Defining a function to compute model's RMSE\n",
    "\n",
    "def rmse(model):\n",
    "    pred = model.predict(X_test)\n",
    "    rmse = np.sqrt(metrics.mean_squared_error(pred, y_test))\n",
    "\n",
    "    return rmse"
   ]
  },
  {
   "cell_type": "code",
   "execution_count": 36,
   "metadata": {},
   "outputs": [
    {
     "data": {
      "text/plain": [
       "570960.7657611506"
      ]
     },
     "execution_count": 36,
     "metadata": {},
     "output_type": "execute_result"
    }
   ],
   "source": [
    "# Instantiating and fitting the regression model\n",
    "\n",
    "xgb = XGBRegressor(random_state=11, n_estimators=100, n_jobs=1, max_leaves=20)\n",
    "xgb.fit(X_train, y_train)\n",
    "rmse(xgb)"
   ]
  },
  {
   "cell_type": "markdown",
   "metadata": {},
   "source": [
    "Behind fitting the trained data on the `XGB Regressor`, the model was able to predict `prices` of properties with an `error` of over `N570,000`. Good but could be made better through attempting some `ensembling techniques`."
   ]
  },
  {
   "cell_type": "code",
   "execution_count": 37,
   "metadata": {},
   "outputs": [
    {
     "data": {
      "text/plain": [
       "569628.9399484005"
      ]
     },
     "execution_count": 37,
     "metadata": {},
     "output_type": "execute_result"
    }
   ],
   "source": [
    "# Instantiating, fitting and ensembling the regression model\n",
    "\n",
    "bag = BaggingRegressor(n_estimators=100, n_jobs=10, base_estimator=xgb)\n",
    "bag.fit(X_train, y_train)\n",
    "rmse(bag)"
   ]
  },
  {
   "cell_type": "markdown",
   "metadata": {},
   "source": [
    "The `Bagging` ensembling technique employed tend to `improve` the model's `performance` slightly by predicting property prices with an error of `N560,000`."
   ]
  },
  {
   "cell_type": "code",
   "execution_count": 38,
   "metadata": {},
   "outputs": [],
   "source": [
    "# Choosing the final model to predict on the Test data\n",
    "\n",
    "pred = bag.predict(X_test)"
   ]
  },
  {
   "cell_type": "markdown",
   "metadata": {},
   "source": [
    "Since the `Bagging` predictive `model` tend to `perform better`. Hence, this model will be employed in `predicting` property `prices` on the `Test set`."
   ]
  },
  {
   "cell_type": "code",
   "execution_count": 39,
   "metadata": {},
   "outputs": [
    {
     "data": {
      "image/png": "[encoded data removed]",
      "text/plain": [
       "<Figure size 720x432 with 1 Axes>"
      ]
     },
     "metadata": {
      "needs_background": "light"
     },
     "output_type": "display_data"
    }
   ],
   "source": [
    "# Visualizing for actual price against predicted price\n",
    "\n",
    "plt.figure(figsize=(10, 6))\n",
    "sns.scatterplot(x=y_test, y=pred, color='blue', alpha=.90)\n",
    "sns.regplot(x=y_test, y=pred, color='red', scatter=False, robust=1)\n",
    "\n",
    "plt.xlabel(\"Actual_price\", fontsize=12)\n",
    "plt.ylabel(\"Predicted_price\", fontsize=12)\n",
    "plt.title(\"Plot of Actual vs Predicted Price\", fontsize=20)\n",
    "\n",
    "plt.grid(True, alpha=.30)\n",
    "plt.show()"
   ]
  },
  {
   "cell_type": "markdown",
   "metadata": {},
   "source": [
    "Comparing the `actual` and `predicted prices` of properties, it is obvious that both elements are `positively linearly correlated` and tended towards same plane."
   ]
  },
  {
   "cell_type": "code",
   "execution_count": 40,
   "metadata": {},
   "outputs": [
    {
     "data": {
      "text/plain": [
       "0.7464788520029697"
      ]
     },
     "execution_count": 40,
     "metadata": {},
     "output_type": "execute_result"
    }
   ],
   "source": [
    "# R2 value of the model\n",
    "\n",
    "r2 = metrics.r2_score(y_test, pred)\n",
    "r2"
   ]
  },
  {
   "cell_type": "markdown",
   "metadata": {},
   "source": [
    "Looking at the `r2 score` value of the model, about `75%` of variations in `prices` on the `test set` was shown to have been `explained` by `features` on the `train set`. An indication of `how well` the `model fits` the dataset."
   ]
  },
  {
   "cell_type": "markdown",
   "metadata": {},
   "source": [
    "### Replicating Preprocessing on Test Data"
   ]
  },
  {
   "cell_type": "code",
   "execution_count": 41,
   "metadata": {},
   "outputs": [],
   "source": [
    "# Replicating all necessary preproceing done on the Train set, to the Test set\n",
    "\n",
    "test['loc'] = label.fit_transform(test['loc'])\n",
    "test['title'] = label.fit_transform(test['title'])\n",
    "\n",
    "test = test.drop(['ID'], axis=1)\n",
    "\n",
    "#test = scaler.fit_transform(test)"
   ]
  },
  {
   "cell_type": "code",
   "execution_count": 42,
   "metadata": {},
   "outputs": [
    {
     "data": {
      "text/plain": [
       "array([2370299.8 , 1006423.94, 1137565.2 , ..., 1971644.1 , 1290506.1 ,\n",
       "       3700385.  ], dtype=float32)"
      ]
     },
     "execution_count": 42,
     "metadata": {},
     "output_type": "execute_result"
    }
   ],
   "source": [
    "# Predicting property Prices on the Test set\n",
    "\n",
    "prediction = bag.predict(test)\n",
    "prediction"
   ]
  },
  {
   "cell_type": "code",
   "execution_count": 43,
   "metadata": {},
   "outputs": [
    {
     "data": {
      "text/html": [
       "<div>\n",
       "<style scoped>\n",
       "    .dataframe tbody tr th:only-of-type {\n",
       "        vertical-align: middle;\n",
       "    }\n",
       "\n",
       "    .dataframe tbody tr th {\n",
       "        vertical-align: top;\n",
       "    }\n",
       "\n",
       "    .dataframe thead th {\n",
       "        text-align: right;\n",
       "    }\n",
       "</style>\n",
       "<table border=\"1\" class=\"dataframe\">\n",
       "  <thead>\n",
       "    <tr style=\"text-align: right;\">\n",
       "      <th></th>\n",
       "      <th>ID</th>\n",
       "      <th>price</th>\n",
       "    </tr>\n",
       "  </thead>\n",
       "  <tbody>\n",
       "    <tr>\n",
       "      <th>0</th>\n",
       "      <td>845</td>\n",
       "      <td>2.370300e+06</td>\n",
       "    </tr>\n",
       "    <tr>\n",
       "      <th>1</th>\n",
       "      <td>1924</td>\n",
       "      <td>1.006424e+06</td>\n",
       "    </tr>\n",
       "    <tr>\n",
       "      <th>2</th>\n",
       "      <td>10718</td>\n",
       "      <td>1.137565e+06</td>\n",
       "    </tr>\n",
       "    <tr>\n",
       "      <th>3</th>\n",
       "      <td>12076</td>\n",
       "      <td>8.482363e+06</td>\n",
       "    </tr>\n",
       "    <tr>\n",
       "      <th>4</th>\n",
       "      <td>12254</td>\n",
       "      <td>1.839758e+06</td>\n",
       "    </tr>\n",
       "    <tr>\n",
       "      <th>...</th>\n",
       "      <td>...</td>\n",
       "      <td>...</td>\n",
       "    </tr>\n",
       "    <tr>\n",
       "      <th>5995</th>\n",
       "      <td>1594</td>\n",
       "      <td>1.693558e+06</td>\n",
       "    </tr>\n",
       "    <tr>\n",
       "      <th>5996</th>\n",
       "      <td>2416</td>\n",
       "      <td>2.181222e+06</td>\n",
       "    </tr>\n",
       "    <tr>\n",
       "      <th>5997</th>\n",
       "      <td>10195</td>\n",
       "      <td>1.971644e+06</td>\n",
       "    </tr>\n",
       "    <tr>\n",
       "      <th>5998</th>\n",
       "      <td>9455</td>\n",
       "      <td>1.290506e+06</td>\n",
       "    </tr>\n",
       "    <tr>\n",
       "      <th>5999</th>\n",
       "      <td>11736</td>\n",
       "      <td>3.700385e+06</td>\n",
       "    </tr>\n",
       "  </tbody>\n",
       "</table>\n",
       "<p>6000 rows × 2 columns</p>\n",
       "</div>"
      ],
      "text/plain": [
       "         ID         price\n",
       "0       845  2.370300e+06\n",
       "1      1924  1.006424e+06\n",
       "2     10718  1.137565e+06\n",
       "3     12076  8.482363e+06\n",
       "4     12254  1.839758e+06\n",
       "...     ...           ...\n",
       "5995   1594  1.693558e+06\n",
       "5996   2416  2.181222e+06\n",
       "5997  10195  1.971644e+06\n",
       "5998   9455  1.290506e+06\n",
       "5999  11736  3.700385e+06\n",
       "\n",
       "[6000 rows x 2 columns]"
      ]
     },
     "execution_count": 43,
     "metadata": {},
     "output_type": "execute_result"
    }
   ],
   "source": [
    "# Converting output into Dataframe for submission\n",
    "\n",
    "submit = pd.DataFrame({'ID': submission['ID'], 'price': prediction})\n",
    "submit"
   ]
  },
  {
   "cell_type": "code",
   "execution_count": 44,
   "metadata": {},
   "outputs": [],
   "source": [
    "# Output to CSV\n",
    "\n",
    "submit.to_csv(\"hack_submission.csv\", index=0)"
   ]
  },
  {
   "cell_type": "code",
   "execution_count": 45,
   "metadata": {},
   "outputs": [
    {
     "name": "stdout",
     "output_type": "stream",
     "text": [
      "Finally! Nice to be here! \n",
      "\n",
      " Done baby!😉\n"
     ]
    }
   ],
   "source": [
    "print (\"Finally! Nice to be here! \\n\\n Done baby!😉\")"
   ]
  }
 ],
 "metadata": {
  "kernelspec": {
   "display_name": "base",
   "language": "python",
   "name": "python3"
  },
  "language_info": {
   "codemirror_mode": {
    "name": "ipython",
    "version": 3
   },
   "file_extension": ".py",
   "mimetype": "text/x-python",
   "name": "python",
   "nbconvert_exporter": "python",
   "pygments_lexer": "ipython3",
   "version": "3.9.12"
  },
  "orig_nbformat": 4
 },
 "nbformat": 4,
 "nbformat_minor": 2
}
