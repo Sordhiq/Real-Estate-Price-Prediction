{
 "cells": [
  {
   "cell_type": "code",
   "execution_count": 59,
   "metadata": {},
   "outputs": [],
   "source": [
    "import numpy as np\n",
    "import pandas as pd\n",
    "import seaborn as sns\n",
    "import matplotlib.pyplot as plt\n",
    "\n",
    "from sklearn import  metrics\n",
    "\n",
    "from sklearn.preprocessing import  StandardScaler\n",
    "\n",
    "from xgboost import XGBRegressor\n",
    "from sklearn.linear_model import  LinearRegression\n",
    "from sklearn.ensemble import BaggingRegressor, RandomForestRegressor\n",
    "from sklearn.model_selection import  train_test_split, GridSearchCV\n",
    "from sklearn.preprocessing import LabelEncoder, OneHotEncoder\n",
    "\n",
    "import warnings\n",
    "warnings.filterwarnings(\"ignore\")"
   ]
  },
  {
   "cell_type": "code",
   "execution_count": 60,
   "metadata": {},
   "outputs": [],
   "source": [
    "train = pd.read_csv(\"Housing_dataset_train.csv\")\n",
    "test = pd.read_csv(\"Housing_dataset_test.csv\")\n",
    "submission = pd.read_csv(\"Sample_submission.csv\")"
   ]
  },
  {
   "cell_type": "code",
   "execution_count": 61,
   "metadata": {},
   "outputs": [
    {
     "data": {
      "text/html": [
       "<div>\n",
       "<style scoped>\n",
       "    .dataframe tbody tr th:only-of-type {\n",
       "        vertical-align: middle;\n",
       "    }\n",
       "\n",
       "    .dataframe tbody tr th {\n",
       "        vertical-align: top;\n",
       "    }\n",
       "\n",
       "    .dataframe thead th {\n",
       "        text-align: right;\n",
       "    }\n",
       "</style>\n",
       "<table border=\"1\" class=\"dataframe\">\n",
       "  <thead>\n",
       "    <tr style=\"text-align: right;\">\n",
       "      <th></th>\n",
       "      <th>ID</th>\n",
       "      <th>loc</th>\n",
       "      <th>title</th>\n",
       "      <th>bedroom</th>\n",
       "      <th>bathroom</th>\n",
       "      <th>parking_space</th>\n",
       "      <th>price</th>\n",
       "    </tr>\n",
       "  </thead>\n",
       "  <tbody>\n",
       "    <tr>\n",
       "      <th>0</th>\n",
       "      <td>3583</td>\n",
       "      <td>Katsina</td>\n",
       "      <td>Semi-detached duplex</td>\n",
       "      <td>2.0</td>\n",
       "      <td>2.0</td>\n",
       "      <td>1.0</td>\n",
       "      <td>1149999.565</td>\n",
       "    </tr>\n",
       "    <tr>\n",
       "      <th>1</th>\n",
       "      <td>2748</td>\n",
       "      <td>Ondo</td>\n",
       "      <td>Apartment</td>\n",
       "      <td>NaN</td>\n",
       "      <td>2.0</td>\n",
       "      <td>4.0</td>\n",
       "      <td>1672416.689</td>\n",
       "    </tr>\n",
       "    <tr>\n",
       "      <th>2</th>\n",
       "      <td>9261</td>\n",
       "      <td>Ekiti</td>\n",
       "      <td>NaN</td>\n",
       "      <td>7.0</td>\n",
       "      <td>5.0</td>\n",
       "      <td>NaN</td>\n",
       "      <td>3364799.814</td>\n",
       "    </tr>\n",
       "    <tr>\n",
       "      <th>3</th>\n",
       "      <td>2224</td>\n",
       "      <td>Anambra</td>\n",
       "      <td>Detached duplex</td>\n",
       "      <td>5.0</td>\n",
       "      <td>2.0</td>\n",
       "      <td>4.0</td>\n",
       "      <td>2410306.756</td>\n",
       "    </tr>\n",
       "    <tr>\n",
       "      <th>4</th>\n",
       "      <td>10300</td>\n",
       "      <td>Kogi</td>\n",
       "      <td>Terrace duplex</td>\n",
       "      <td>NaN</td>\n",
       "      <td>5.0</td>\n",
       "      <td>6.0</td>\n",
       "      <td>2600700.898</td>\n",
       "    </tr>\n",
       "  </tbody>\n",
       "</table>\n",
       "</div>"
      ],
      "text/plain": [
       "      ID      loc                 title  bedroom  bathroom  parking_space  \\\n",
       "0   3583  Katsina  Semi-detached duplex      2.0       2.0            1.0   \n",
       "1   2748     Ondo             Apartment      NaN       2.0            4.0   \n",
       "2   9261    Ekiti                   NaN      7.0       5.0            NaN   \n",
       "3   2224  Anambra       Detached duplex      5.0       2.0            4.0   \n",
       "4  10300     Kogi        Terrace duplex      NaN       5.0            6.0   \n",
       "\n",
       "         price  \n",
       "0  1149999.565  \n",
       "1  1672416.689  \n",
       "2  3364799.814  \n",
       "3  2410306.756  \n",
       "4  2600700.898  "
      ]
     },
     "execution_count": 61,
     "metadata": {},
     "output_type": "execute_result"
    }
   ],
   "source": [
    "train.head()"
   ]
  },
  {
   "cell_type": "code",
   "execution_count": 62,
   "metadata": {},
   "outputs": [
    {
     "data": {
      "text/html": [
       "<div>\n",
       "<style scoped>\n",
       "    .dataframe tbody tr th:only-of-type {\n",
       "        vertical-align: middle;\n",
       "    }\n",
       "\n",
       "    .dataframe tbody tr th {\n",
       "        vertical-align: top;\n",
       "    }\n",
       "\n",
       "    .dataframe thead th {\n",
       "        text-align: right;\n",
       "    }\n",
       "</style>\n",
       "<table border=\"1\" class=\"dataframe\">\n",
       "  <thead>\n",
       "    <tr style=\"text-align: right;\">\n",
       "      <th></th>\n",
       "      <th>ID</th>\n",
       "      <th>loc</th>\n",
       "      <th>title</th>\n",
       "      <th>bedroom</th>\n",
       "      <th>bathroom</th>\n",
       "      <th>parking_space</th>\n",
       "      <th>price</th>\n",
       "    </tr>\n",
       "  </thead>\n",
       "  <tbody>\n",
       "    <tr>\n",
       "      <th>13995</th>\n",
       "      <td>6175</td>\n",
       "      <td>Edo</td>\n",
       "      <td>Bungalow</td>\n",
       "      <td>NaN</td>\n",
       "      <td>7.0</td>\n",
       "      <td>NaN</td>\n",
       "      <td>2367927.861</td>\n",
       "    </tr>\n",
       "    <tr>\n",
       "      <th>13996</th>\n",
       "      <td>9704</td>\n",
       "      <td>Kaduna</td>\n",
       "      <td>Apartment</td>\n",
       "      <td>NaN</td>\n",
       "      <td>7.0</td>\n",
       "      <td>5.0</td>\n",
       "      <td>2228516.471</td>\n",
       "    </tr>\n",
       "    <tr>\n",
       "      <th>13997</th>\n",
       "      <td>11190</td>\n",
       "      <td>Plateau</td>\n",
       "      <td>Bungalow</td>\n",
       "      <td>8.0</td>\n",
       "      <td>6.0</td>\n",
       "      <td>5.0</td>\n",
       "      <td>2406812.693</td>\n",
       "    </tr>\n",
       "    <tr>\n",
       "      <th>13998</th>\n",
       "      <td>9256</td>\n",
       "      <td>Delta</td>\n",
       "      <td>Flat</td>\n",
       "      <td>NaN</td>\n",
       "      <td>6.0</td>\n",
       "      <td>1.0</td>\n",
       "      <td>3348918.718</td>\n",
       "    </tr>\n",
       "    <tr>\n",
       "      <th>13999</th>\n",
       "      <td>8787</td>\n",
       "      <td>Nasarawa</td>\n",
       "      <td>NaN</td>\n",
       "      <td>9.0</td>\n",
       "      <td>7.0</td>\n",
       "      <td>5.0</td>\n",
       "      <td>2858516.890</td>\n",
       "    </tr>\n",
       "  </tbody>\n",
       "</table>\n",
       "</div>"
      ],
      "text/plain": [
       "          ID       loc      title  bedroom  bathroom  parking_space  \\\n",
       "13995   6175       Edo   Bungalow      NaN       7.0            NaN   \n",
       "13996   9704    Kaduna  Apartment      NaN       7.0            5.0   \n",
       "13997  11190   Plateau   Bungalow      8.0       6.0            5.0   \n",
       "13998   9256     Delta       Flat      NaN       6.0            1.0   \n",
       "13999   8787  Nasarawa        NaN      9.0       7.0            5.0   \n",
       "\n",
       "             price  \n",
       "13995  2367927.861  \n",
       "13996  2228516.471  \n",
       "13997  2406812.693  \n",
       "13998  3348918.718  \n",
       "13999  2858516.890  "
      ]
     },
     "execution_count": 62,
     "metadata": {},
     "output_type": "execute_result"
    }
   ],
   "source": [
    "train.tail()"
   ]
  },
  {
   "cell_type": "code",
   "execution_count": 63,
   "metadata": {},
   "outputs": [
    {
     "name": "stdout",
     "output_type": "stream",
     "text": [
      "<class 'pandas.core.frame.DataFrame'>\n",
      "RangeIndex: 14000 entries, 0 to 13999\n",
      "Data columns (total 7 columns):\n",
      " #   Column         Non-Null Count  Dtype  \n",
      "---  ------         --------------  -----  \n",
      " 0   ID             14000 non-null  int64  \n",
      " 1   loc            12187 non-null  object \n",
      " 2   title          12278 non-null  object \n",
      " 3   bedroom        12201 non-null  float64\n",
      " 4   bathroom       12195 non-null  float64\n",
      " 5   parking_space  12189 non-null  float64\n",
      " 6   price          14000 non-null  float64\n",
      "dtypes: float64(4), int64(1), object(2)\n",
      "memory usage: 765.8+ KB\n"
     ]
    }
   ],
   "source": [
    "train.info()"
   ]
  },
  {
   "cell_type": "code",
   "execution_count": 64,
   "metadata": {},
   "outputs": [
    {
     "data": {
      "text/html": [
       "<div>\n",
       "<style scoped>\n",
       "    .dataframe tbody tr th:only-of-type {\n",
       "        vertical-align: middle;\n",
       "    }\n",
       "\n",
       "    .dataframe tbody tr th {\n",
       "        vertical-align: top;\n",
       "    }\n",
       "\n",
       "    .dataframe thead th {\n",
       "        text-align: right;\n",
       "    }\n",
       "</style>\n",
       "<table border=\"1\" class=\"dataframe\">\n",
       "  <thead>\n",
       "    <tr style=\"text-align: right;\">\n",
       "      <th></th>\n",
       "      <th>ID</th>\n",
       "      <th>bedroom</th>\n",
       "      <th>bathroom</th>\n",
       "      <th>parking_space</th>\n",
       "      <th>price</th>\n",
       "    </tr>\n",
       "  </thead>\n",
       "  <tbody>\n",
       "    <tr>\n",
       "      <th>count</th>\n",
       "      <td>14000.000000</td>\n",
       "      <td>12201.000000</td>\n",
       "      <td>12195.000000</td>\n",
       "      <td>12189.000000</td>\n",
       "      <td>1.400000e+04</td>\n",
       "    </tr>\n",
       "    <tr>\n",
       "      <th>mean</th>\n",
       "      <td>4862.700357</td>\n",
       "      <td>4.308171</td>\n",
       "      <td>3.134235</td>\n",
       "      <td>3.169825</td>\n",
       "      <td>2.138082e+06</td>\n",
       "    </tr>\n",
       "    <tr>\n",
       "      <th>std</th>\n",
       "      <td>3818.348214</td>\n",
       "      <td>2.441165</td>\n",
       "      <td>2.035950</td>\n",
       "      <td>1.599415</td>\n",
       "      <td>1.083057e+06</td>\n",
       "    </tr>\n",
       "    <tr>\n",
       "      <th>min</th>\n",
       "      <td>0.000000</td>\n",
       "      <td>1.000000</td>\n",
       "      <td>1.000000</td>\n",
       "      <td>1.000000</td>\n",
       "      <td>4.319673e+05</td>\n",
       "    </tr>\n",
       "    <tr>\n",
       "      <th>25%</th>\n",
       "      <td>1672.750000</td>\n",
       "      <td>2.000000</td>\n",
       "      <td>1.000000</td>\n",
       "      <td>2.000000</td>\n",
       "      <td>1.393990e+06</td>\n",
       "    </tr>\n",
       "    <tr>\n",
       "      <th>50%</th>\n",
       "      <td>3527.000000</td>\n",
       "      <td>4.000000</td>\n",
       "      <td>2.000000</td>\n",
       "      <td>3.000000</td>\n",
       "      <td>1.895223e+06</td>\n",
       "    </tr>\n",
       "    <tr>\n",
       "      <th>75%</th>\n",
       "      <td>8011.250000</td>\n",
       "      <td>6.000000</td>\n",
       "      <td>5.000000</td>\n",
       "      <td>4.000000</td>\n",
       "      <td>2.586699e+06</td>\n",
       "    </tr>\n",
       "    <tr>\n",
       "      <th>max</th>\n",
       "      <td>12999.000000</td>\n",
       "      <td>9.000000</td>\n",
       "      <td>7.000000</td>\n",
       "      <td>6.000000</td>\n",
       "      <td>1.656849e+07</td>\n",
       "    </tr>\n",
       "  </tbody>\n",
       "</table>\n",
       "</div>"
      ],
      "text/plain": [
       "                 ID       bedroom      bathroom  parking_space         price\n",
       "count  14000.000000  12201.000000  12195.000000   12189.000000  1.400000e+04\n",
       "mean    4862.700357      4.308171      3.134235       3.169825  2.138082e+06\n",
       "std     3818.348214      2.441165      2.035950       1.599415  1.083057e+06\n",
       "min        0.000000      1.000000      1.000000       1.000000  4.319673e+05\n",
       "25%     1672.750000      2.000000      1.000000       2.000000  1.393990e+06\n",
       "50%     3527.000000      4.000000      2.000000       3.000000  1.895223e+06\n",
       "75%     8011.250000      6.000000      5.000000       4.000000  2.586699e+06\n",
       "max    12999.000000      9.000000      7.000000       6.000000  1.656849e+07"
      ]
     },
     "execution_count": 64,
     "metadata": {},
     "output_type": "execute_result"
    }
   ],
   "source": [
    "train.describe()"
   ]
  },
  {
   "cell_type": "code",
   "execution_count": 65,
   "metadata": {},
   "outputs": [
    {
     "data": {
      "text/plain": [
       "ID               10182\n",
       "loc                 36\n",
       "title               10\n",
       "bedroom              9\n",
       "bathroom             7\n",
       "parking_space        6\n",
       "price            10727\n",
       "dtype: int64"
      ]
     },
     "execution_count": 65,
     "metadata": {},
     "output_type": "execute_result"
    }
   ],
   "source": [
    "train.nunique()"
   ]
  },
  {
   "cell_type": "code",
   "execution_count": 66,
   "metadata": {},
   "outputs": [
    {
     "data": {
      "text/plain": [
       "ID               0.610108\n",
       "bedroom          0.390922\n",
       "bathroom         0.633202\n",
       "parking_space    0.249415\n",
       "price            2.451809\n",
       "dtype: float64"
      ]
     },
     "execution_count": 66,
     "metadata": {},
     "output_type": "execute_result"
    }
   ],
   "source": [
    "train.skew()"
   ]
  },
  {
   "cell_type": "code",
   "execution_count": 67,
   "metadata": {},
   "outputs": [
    {
     "data": {
      "text/plain": [
       "ID               -0.949480\n",
       "bedroom          -0.904073\n",
       "bathroom         -0.982368\n",
       "parking_space    -1.014354\n",
       "price            15.218322\n",
       "dtype: float64"
      ]
     },
     "execution_count": 67,
     "metadata": {},
     "output_type": "execute_result"
    }
   ],
   "source": [
    "train.kurtosis()"
   ]
  },
  {
   "cell_type": "code",
   "execution_count": 68,
   "metadata": {},
   "outputs": [
    {
     "data": {
      "text/plain": [
       "ID                  0\n",
       "loc              1813\n",
       "title            1722\n",
       "bedroom          1799\n",
       "bathroom         1805\n",
       "parking_space    1811\n",
       "price               0\n",
       "dtype: int64"
      ]
     },
     "execution_count": 68,
     "metadata": {},
     "output_type": "execute_result"
    }
   ],
   "source": [
    "train.isnull().sum()"
   ]
  },
  {
   "cell_type": "code",
   "execution_count": null,
   "metadata": {},
   "outputs": [],
   "source": []
  },
  {
   "cell_type": "code",
   "execution_count": 69,
   "metadata": {},
   "outputs": [
    {
     "data": {
      "text/plain": [
       "<AxesSubplot:>"
      ]
     },
     "execution_count": 69,
     "metadata": {},
     "output_type": "execute_result"
    },
    {
     "data": {
      "image/png": "[encoded data removed]",
      "text/plain": [
       "<Figure size 576x432 with 2 Axes>"
      ]
     },
     "metadata": {
      "needs_background": "light"
     },
     "output_type": "display_data"
    }
   ],
   "source": [
    "plt.figure(figsize=(8, 6))\n",
    "sns.heatmap(train.isnull(), cmap='summer')"
   ]
  },
  {
   "cell_type": "code",
   "execution_count": 70,
   "metadata": {},
   "outputs": [
    {
     "data": {
      "text/plain": [
       "0    Kaduna\n",
       "Name: loc, dtype: object"
      ]
     },
     "execution_count": 70,
     "metadata": {},
     "output_type": "execute_result"
    }
   ],
   "source": [
    "train['loc'].mode()"
   ]
  },
  {
   "cell_type": "code",
   "execution_count": 71,
   "metadata": {},
   "outputs": [],
   "source": [
    "train['title'] = train['title'].fillna('Unknown')\n",
    "train['loc'] = train['loc'].fillna('Undisclosed')\n",
    "train['bedroom'] = train['bedroom'].replace(np.NaN, train['bedroom'].mean())\n",
    "train['bathroom'] = train['bathroom'].replace(np.NaN, train['bathroom'].mean())\n",
    "train['parking_space'] = train['parking_space'].replace(np.NaN, train['parking_space'].mean())"
   ]
  },
  {
   "cell_type": "code",
   "execution_count": 72,
   "metadata": {},
   "outputs": [
    {
     "data": {
      "text/plain": [
       "<AxesSubplot:>"
      ]
     },
     "execution_count": 72,
     "metadata": {},
     "output_type": "execute_result"
    },
    {
     "data": {
      "image/png": "[encoded data removed]",
      "text/plain": [
       "<Figure size 576x432 with 2 Axes>"
      ]
     },
     "metadata": {
      "needs_background": "light"
     },
     "output_type": "display_data"
    }
   ],
   "source": [
    "plt.figure(figsize=(8, 6))\n",
    "sns.heatmap(train.isnull(), cmap='summer')"
   ]
  },
  {
   "cell_type": "code",
   "execution_count": 73,
   "metadata": {},
   "outputs": [
    {
     "data": {
      "text/html": [
       "<div>\n",
       "<style scoped>\n",
       "    .dataframe tbody tr th:only-of-type {\n",
       "        vertical-align: middle;\n",
       "    }\n",
       "\n",
       "    .dataframe tbody tr th {\n",
       "        vertical-align: top;\n",
       "    }\n",
       "\n",
       "    .dataframe thead th {\n",
       "        text-align: right;\n",
       "    }\n",
       "</style>\n",
       "<table border=\"1\" class=\"dataframe\">\n",
       "  <thead>\n",
       "    <tr style=\"text-align: right;\">\n",
       "      <th></th>\n",
       "      <th>ID</th>\n",
       "      <th>bedroom</th>\n",
       "      <th>bathroom</th>\n",
       "      <th>parking_space</th>\n",
       "      <th>price</th>\n",
       "    </tr>\n",
       "    <tr>\n",
       "      <th>title</th>\n",
       "      <th></th>\n",
       "      <th></th>\n",
       "      <th></th>\n",
       "      <th></th>\n",
       "      <th></th>\n",
       "    </tr>\n",
       "  </thead>\n",
       "  <tbody>\n",
       "    <tr>\n",
       "      <th>Apartment</th>\n",
       "      <td>4940.278738</td>\n",
       "      <td>4.338856</td>\n",
       "      <td>3.113066</td>\n",
       "      <td>3.268562</td>\n",
       "      <td>1.567004e+06</td>\n",
       "    </tr>\n",
       "    <tr>\n",
       "      <th>Bungalow</th>\n",
       "      <td>5005.518948</td>\n",
       "      <td>4.390330</td>\n",
       "      <td>3.353173</td>\n",
       "      <td>3.189411</td>\n",
       "      <td>1.733845e+06</td>\n",
       "    </tr>\n",
       "    <tr>\n",
       "      <th>Cottage</th>\n",
       "      <td>1767.420000</td>\n",
       "      <td>3.120586</td>\n",
       "      <td>1.741313</td>\n",
       "      <td>2.615180</td>\n",
       "      <td>1.307817e+06</td>\n",
       "    </tr>\n",
       "    <tr>\n",
       "      <th>Detached duplex</th>\n",
       "      <td>5002.801067</td>\n",
       "      <td>4.325457</td>\n",
       "      <td>3.218521</td>\n",
       "      <td>3.222247</td>\n",
       "      <td>2.205883e+06</td>\n",
       "    </tr>\n",
       "    <tr>\n",
       "      <th>Flat</th>\n",
       "      <td>4852.685860</td>\n",
       "      <td>4.369652</td>\n",
       "      <td>3.180691</td>\n",
       "      <td>3.149735</td>\n",
       "      <td>1.721875e+06</td>\n",
       "    </tr>\n",
       "    <tr>\n",
       "      <th>Mansion</th>\n",
       "      <td>4882.914523</td>\n",
       "      <td>4.329993</td>\n",
       "      <td>3.188733</td>\n",
       "      <td>3.122729</td>\n",
       "      <td>3.725768e+06</td>\n",
       "    </tr>\n",
       "    <tr>\n",
       "      <th>Penthouse</th>\n",
       "      <td>4945.607963</td>\n",
       "      <td>4.338558</td>\n",
       "      <td>3.007118</td>\n",
       "      <td>3.217633</td>\n",
       "      <td>2.628945e+06</td>\n",
       "    </tr>\n",
       "    <tr>\n",
       "      <th>Semi-detached duplex</th>\n",
       "      <td>4980.161663</td>\n",
       "      <td>4.397484</td>\n",
       "      <td>3.185916</td>\n",
       "      <td>3.197818</td>\n",
       "      <td>1.918468e+06</td>\n",
       "    </tr>\n",
       "    <tr>\n",
       "      <th>Terrace duplex</th>\n",
       "      <td>5152.398894</td>\n",
       "      <td>4.336254</td>\n",
       "      <td>3.271474</td>\n",
       "      <td>3.177161</td>\n",
       "      <td>1.927270e+06</td>\n",
       "    </tr>\n",
       "    <tr>\n",
       "      <th>Townhouse</th>\n",
       "      <td>5084.376036</td>\n",
       "      <td>4.300170</td>\n",
       "      <td>3.161343</td>\n",
       "      <td>3.174733</td>\n",
       "      <td>2.056125e+06</td>\n",
       "    </tr>\n",
       "    <tr>\n",
       "      <th>Unknown</th>\n",
       "      <td>4854.789779</td>\n",
       "      <td>4.349301</td>\n",
       "      <td>3.142776</td>\n",
       "      <td>3.169417</td>\n",
       "      <td>2.172586e+06</td>\n",
       "    </tr>\n",
       "  </tbody>\n",
       "</table>\n",
       "</div>"
      ],
      "text/plain": [
       "                               ID   bedroom  bathroom  parking_space  \\\n",
       "title                                                                  \n",
       "Apartment             4940.278738  4.338856  3.113066       3.268562   \n",
       "Bungalow              5005.518948  4.390330  3.353173       3.189411   \n",
       "Cottage               1767.420000  3.120586  1.741313       2.615180   \n",
       "Detached duplex       5002.801067  4.325457  3.218521       3.222247   \n",
       "Flat                  4852.685860  4.369652  3.180691       3.149735   \n",
       "Mansion               4882.914523  4.329993  3.188733       3.122729   \n",
       "Penthouse             4945.607963  4.338558  3.007118       3.217633   \n",
       "Semi-detached duplex  4980.161663  4.397484  3.185916       3.197818   \n",
       "Terrace duplex        5152.398894  4.336254  3.271474       3.177161   \n",
       "Townhouse             5084.376036  4.300170  3.161343       3.174733   \n",
       "Unknown               4854.789779  4.349301  3.142776       3.169417   \n",
       "\n",
       "                             price  \n",
       "title                               \n",
       "Apartment             1.567004e+06  \n",
       "Bungalow              1.733845e+06  \n",
       "Cottage               1.307817e+06  \n",
       "Detached duplex       2.205883e+06  \n",
       "Flat                  1.721875e+06  \n",
       "Mansion               3.725768e+06  \n",
       "Penthouse             2.628945e+06  \n",
       "Semi-detached duplex  1.918468e+06  \n",
       "Terrace duplex        1.927270e+06  \n",
       "Townhouse             2.056125e+06  \n",
       "Unknown               2.172586e+06  "
      ]
     },
     "execution_count": 73,
     "metadata": {},
     "output_type": "execute_result"
    }
   ],
   "source": [
    "train.groupby(by=[\"title\"]).mean()"
   ]
  },
  {
   "cell_type": "code",
   "execution_count": 74,
   "metadata": {},
   "outputs": [
    {
     "data": {
      "text/html": [
       "<div>\n",
       "<style scoped>\n",
       "    .dataframe tbody tr th:only-of-type {\n",
       "        vertical-align: middle;\n",
       "    }\n",
       "\n",
       "    .dataframe tbody tr th {\n",
       "        vertical-align: top;\n",
       "    }\n",
       "\n",
       "    .dataframe thead th {\n",
       "        text-align: right;\n",
       "    }\n",
       "</style>\n",
       "<table border=\"1\" class=\"dataframe\">\n",
       "  <thead>\n",
       "    <tr style=\"text-align: right;\">\n",
       "      <th></th>\n",
       "      <th>ID</th>\n",
       "      <th>bedroom</th>\n",
       "      <th>bathroom</th>\n",
       "      <th>parking_space</th>\n",
       "      <th>price</th>\n",
       "    </tr>\n",
       "    <tr>\n",
       "      <th>loc</th>\n",
       "      <th></th>\n",
       "      <th></th>\n",
       "      <th></th>\n",
       "      <th></th>\n",
       "      <th></th>\n",
       "    </tr>\n",
       "  </thead>\n",
       "  <tbody>\n",
       "    <tr>\n",
       "      <th>Abia</th>\n",
       "      <td>5055.266026</td>\n",
       "      <td>4.152918</td>\n",
       "      <td>3.137327</td>\n",
       "      <td>3.344463</td>\n",
       "      <td>1.717083e+06</td>\n",
       "    </tr>\n",
       "    <tr>\n",
       "      <th>Adamawa</th>\n",
       "      <td>4405.217009</td>\n",
       "      <td>4.275051</td>\n",
       "      <td>3.036097</td>\n",
       "      <td>3.100207</td>\n",
       "      <td>1.905287e+06</td>\n",
       "    </tr>\n",
       "    <tr>\n",
       "      <th>Akwa Ibom</th>\n",
       "      <td>4781.866261</td>\n",
       "      <td>4.279463</td>\n",
       "      <td>3.096164</td>\n",
       "      <td>3.146357</td>\n",
       "      <td>2.725454e+06</td>\n",
       "    </tr>\n",
       "    <tr>\n",
       "      <th>Anambra</th>\n",
       "      <td>4951.118457</td>\n",
       "      <td>4.115355</td>\n",
       "      <td>3.069186</td>\n",
       "      <td>3.264880</td>\n",
       "      <td>2.337230e+06</td>\n",
       "    </tr>\n",
       "    <tr>\n",
       "      <th>Bauchi</th>\n",
       "      <td>4831.602339</td>\n",
       "      <td>4.412592</td>\n",
       "      <td>3.330136</td>\n",
       "      <td>3.135884</td>\n",
       "      <td>1.772961e+06</td>\n",
       "    </tr>\n",
       "    <tr>\n",
       "      <th>Bayelsa</th>\n",
       "      <td>4946.014706</td>\n",
       "      <td>4.414539</td>\n",
       "      <td>3.218161</td>\n",
       "      <td>3.060712</td>\n",
       "      <td>3.112322e+06</td>\n",
       "    </tr>\n",
       "    <tr>\n",
       "      <th>Benue</th>\n",
       "      <td>5062.014085</td>\n",
       "      <td>4.228664</td>\n",
       "      <td>3.248210</td>\n",
       "      <td>3.191551</td>\n",
       "      <td>1.920461e+06</td>\n",
       "    </tr>\n",
       "    <tr>\n",
       "      <th>Borno</th>\n",
       "      <td>5075.663818</td>\n",
       "      <td>4.378773</td>\n",
       "      <td>3.131763</td>\n",
       "      <td>3.113908</td>\n",
       "      <td>1.735704e+06</td>\n",
       "    </tr>\n",
       "    <tr>\n",
       "      <th>Cross River</th>\n",
       "      <td>4874.942693</td>\n",
       "      <td>4.470202</td>\n",
       "      <td>3.126230</td>\n",
       "      <td>3.126563</td>\n",
       "      <td>2.507765e+06</td>\n",
       "    </tr>\n",
       "    <tr>\n",
       "      <th>Delta</th>\n",
       "      <td>4699.012308</td>\n",
       "      <td>4.215461</td>\n",
       "      <td>3.121550</td>\n",
       "      <td>3.140437</td>\n",
       "      <td>2.712493e+06</td>\n",
       "    </tr>\n",
       "    <tr>\n",
       "      <th>Ebonyi</th>\n",
       "      <td>4429.277457</td>\n",
       "      <td>4.045642</td>\n",
       "      <td>2.974707</td>\n",
       "      <td>3.075528</td>\n",
       "      <td>1.635850e+06</td>\n",
       "    </tr>\n",
       "    <tr>\n",
       "      <th>Edo</th>\n",
       "      <td>5199.976821</td>\n",
       "      <td>4.345203</td>\n",
       "      <td>3.151963</td>\n",
       "      <td>3.359117</td>\n",
       "      <td>2.310452e+06</td>\n",
       "    </tr>\n",
       "    <tr>\n",
       "      <th>Ekiti</th>\n",
       "      <td>5074.547619</td>\n",
       "      <td>4.557745</td>\n",
       "      <td>3.074745</td>\n",
       "      <td>3.131965</td>\n",
       "      <td>2.109220e+06</td>\n",
       "    </tr>\n",
       "    <tr>\n",
       "      <th>Enugu</th>\n",
       "      <td>5332.651235</td>\n",
       "      <td>4.224667</td>\n",
       "      <td>3.407761</td>\n",
       "      <td>3.295192</td>\n",
       "      <td>2.272887e+06</td>\n",
       "    </tr>\n",
       "    <tr>\n",
       "      <th>Gombe</th>\n",
       "      <td>4430.145773</td>\n",
       "      <td>4.321891</td>\n",
       "      <td>3.018570</td>\n",
       "      <td>3.221521</td>\n",
       "      <td>1.860851e+06</td>\n",
       "    </tr>\n",
       "    <tr>\n",
       "      <th>Imo</th>\n",
       "      <td>4673.002874</td>\n",
       "      <td>4.046717</td>\n",
       "      <td>3.140921</td>\n",
       "      <td>3.209230</td>\n",
       "      <td>2.067489e+06</td>\n",
       "    </tr>\n",
       "    <tr>\n",
       "      <th>Jigawa</th>\n",
       "      <td>4942.035608</td>\n",
       "      <td>4.293376</td>\n",
       "      <td>3.182324</td>\n",
       "      <td>3.063829</td>\n",
       "      <td>1.735867e+06</td>\n",
       "    </tr>\n",
       "    <tr>\n",
       "      <th>Kaduna</th>\n",
       "      <td>4839.864865</td>\n",
       "      <td>4.161397</td>\n",
       "      <td>3.022820</td>\n",
       "      <td>3.132842</td>\n",
       "      <td>1.846993e+06</td>\n",
       "    </tr>\n",
       "    <tr>\n",
       "      <th>Kano</th>\n",
       "      <td>5120.173789</td>\n",
       "      <td>4.352021</td>\n",
       "      <td>3.240751</td>\n",
       "      <td>3.093106</td>\n",
       "      <td>2.081931e+06</td>\n",
       "    </tr>\n",
       "    <tr>\n",
       "      <th>Katsina</th>\n",
       "      <td>5084.710145</td>\n",
       "      <td>4.460723</td>\n",
       "      <td>3.241690</td>\n",
       "      <td>3.151164</td>\n",
       "      <td>1.947589e+06</td>\n",
       "    </tr>\n",
       "    <tr>\n",
       "      <th>Kebbi</th>\n",
       "      <td>4813.271676</td>\n",
       "      <td>4.428708</td>\n",
       "      <td>3.103039</td>\n",
       "      <td>3.172376</td>\n",
       "      <td>1.616372e+06</td>\n",
       "    </tr>\n",
       "    <tr>\n",
       "      <th>Kogi</th>\n",
       "      <td>4702.323988</td>\n",
       "      <td>4.356178</td>\n",
       "      <td>3.011751</td>\n",
       "      <td>3.047201</td>\n",
       "      <td>1.763416e+06</td>\n",
       "    </tr>\n",
       "    <tr>\n",
       "      <th>Kwara</th>\n",
       "      <td>4882.243243</td>\n",
       "      <td>4.351407</td>\n",
       "      <td>3.098818</td>\n",
       "      <td>2.998529</td>\n",
       "      <td>1.903424e+06</td>\n",
       "    </tr>\n",
       "    <tr>\n",
       "      <th>Lagos</th>\n",
       "      <td>4885.307927</td>\n",
       "      <td>4.319009</td>\n",
       "      <td>3.094185</td>\n",
       "      <td>3.061438</td>\n",
       "      <td>4.210546e+06</td>\n",
       "    </tr>\n",
       "    <tr>\n",
       "      <th>Nasarawa</th>\n",
       "      <td>4737.756447</td>\n",
       "      <td>4.223783</td>\n",
       "      <td>3.123153</td>\n",
       "      <td>3.275993</td>\n",
       "      <td>2.061764e+06</td>\n",
       "    </tr>\n",
       "    <tr>\n",
       "      <th>Niger</th>\n",
       "      <td>4994.663636</td>\n",
       "      <td>4.287268</td>\n",
       "      <td>3.182938</td>\n",
       "      <td>3.185250</td>\n",
       "      <td>1.885325e+06</td>\n",
       "    </tr>\n",
       "    <tr>\n",
       "      <th>Ogun</th>\n",
       "      <td>4875.284058</td>\n",
       "      <td>4.359037</td>\n",
       "      <td>3.048265</td>\n",
       "      <td>3.141594</td>\n",
       "      <td>2.564020e+06</td>\n",
       "    </tr>\n",
       "    <tr>\n",
       "      <th>Ondo</th>\n",
       "      <td>4755.183140</td>\n",
       "      <td>4.228608</td>\n",
       "      <td>2.979984</td>\n",
       "      <td>3.092038</td>\n",
       "      <td>2.277494e+06</td>\n",
       "    </tr>\n",
       "    <tr>\n",
       "      <th>Osun</th>\n",
       "      <td>5083.420118</td>\n",
       "      <td>4.478452</td>\n",
       "      <td>3.133296</td>\n",
       "      <td>3.270182</td>\n",
       "      <td>2.180570e+06</td>\n",
       "    </tr>\n",
       "    <tr>\n",
       "      <th>Oyo</th>\n",
       "      <td>4707.375367</td>\n",
       "      <td>4.418967</td>\n",
       "      <td>3.129191</td>\n",
       "      <td>3.303936</td>\n",
       "      <td>2.293159e+06</td>\n",
       "    </tr>\n",
       "    <tr>\n",
       "      <th>Plateau</th>\n",
       "      <td>5201.920118</td>\n",
       "      <td>4.356238</td>\n",
       "      <td>3.090466</td>\n",
       "      <td>3.249416</td>\n",
       "      <td>1.942316e+06</td>\n",
       "    </tr>\n",
       "    <tr>\n",
       "      <th>Rivers</th>\n",
       "      <td>4886.061920</td>\n",
       "      <td>4.295363</td>\n",
       "      <td>3.225716</td>\n",
       "      <td>3.192420</td>\n",
       "      <td>2.957098e+06</td>\n",
       "    </tr>\n",
       "    <tr>\n",
       "      <th>Sokoto</th>\n",
       "      <td>5073.720859</td>\n",
       "      <td>4.215013</td>\n",
       "      <td>3.197905</td>\n",
       "      <td>3.170740</td>\n",
       "      <td>1.681016e+06</td>\n",
       "    </tr>\n",
       "    <tr>\n",
       "      <th>Taraba</th>\n",
       "      <td>4795.965079</td>\n",
       "      <td>4.418388</td>\n",
       "      <td>3.129435</td>\n",
       "      <td>3.136390</td>\n",
       "      <td>1.855306e+06</td>\n",
       "    </tr>\n",
       "    <tr>\n",
       "      <th>Undisclosed</th>\n",
       "      <td>4816.126310</td>\n",
       "      <td>4.325951</td>\n",
       "      <td>3.136679</td>\n",
       "      <td>3.208432</td>\n",
       "      <td>2.170211e+06</td>\n",
       "    </tr>\n",
       "    <tr>\n",
       "      <th>Yobe</th>\n",
       "      <td>4608.980170</td>\n",
       "      <td>4.260052</td>\n",
       "      <td>3.032037</td>\n",
       "      <td>3.163346</td>\n",
       "      <td>1.747938e+06</td>\n",
       "    </tr>\n",
       "    <tr>\n",
       "      <th>Zamfara</th>\n",
       "      <td>4574.456897</td>\n",
       "      <td>4.275934</td>\n",
       "      <td>3.291677</td>\n",
       "      <td>3.114457</td>\n",
       "      <td>1.689541e+06</td>\n",
       "    </tr>\n",
       "  </tbody>\n",
       "</table>\n",
       "</div>"
      ],
      "text/plain": [
       "                      ID   bedroom  bathroom  parking_space         price\n",
       "loc                                                                      \n",
       "Abia         5055.266026  4.152918  3.137327       3.344463  1.717083e+06\n",
       "Adamawa      4405.217009  4.275051  3.036097       3.100207  1.905287e+06\n",
       "Akwa Ibom    4781.866261  4.279463  3.096164       3.146357  2.725454e+06\n",
       "Anambra      4951.118457  4.115355  3.069186       3.264880  2.337230e+06\n",
       "Bauchi       4831.602339  4.412592  3.330136       3.135884  1.772961e+06\n",
       "Bayelsa      4946.014706  4.414539  3.218161       3.060712  3.112322e+06\n",
       "Benue        5062.014085  4.228664  3.248210       3.191551  1.920461e+06\n",
       "Borno        5075.663818  4.378773  3.131763       3.113908  1.735704e+06\n",
       "Cross River  4874.942693  4.470202  3.126230       3.126563  2.507765e+06\n",
       "Delta        4699.012308  4.215461  3.121550       3.140437  2.712493e+06\n",
       "Ebonyi       4429.277457  4.045642  2.974707       3.075528  1.635850e+06\n",
       "Edo          5199.976821  4.345203  3.151963       3.359117  2.310452e+06\n",
       "Ekiti        5074.547619  4.557745  3.074745       3.131965  2.109220e+06\n",
       "Enugu        5332.651235  4.224667  3.407761       3.295192  2.272887e+06\n",
       "Gombe        4430.145773  4.321891  3.018570       3.221521  1.860851e+06\n",
       "Imo          4673.002874  4.046717  3.140921       3.209230  2.067489e+06\n",
       "Jigawa       4942.035608  4.293376  3.182324       3.063829  1.735867e+06\n",
       "Kaduna       4839.864865  4.161397  3.022820       3.132842  1.846993e+06\n",
       "Kano         5120.173789  4.352021  3.240751       3.093106  2.081931e+06\n",
       "Katsina      5084.710145  4.460723  3.241690       3.151164  1.947589e+06\n",
       "Kebbi        4813.271676  4.428708  3.103039       3.172376  1.616372e+06\n",
       "Kogi         4702.323988  4.356178  3.011751       3.047201  1.763416e+06\n",
       "Kwara        4882.243243  4.351407  3.098818       2.998529  1.903424e+06\n",
       "Lagos        4885.307927  4.319009  3.094185       3.061438  4.210546e+06\n",
       "Nasarawa     4737.756447  4.223783  3.123153       3.275993  2.061764e+06\n",
       "Niger        4994.663636  4.287268  3.182938       3.185250  1.885325e+06\n",
       "Ogun         4875.284058  4.359037  3.048265       3.141594  2.564020e+06\n",
       "Ondo         4755.183140  4.228608  2.979984       3.092038  2.277494e+06\n",
       "Osun         5083.420118  4.478452  3.133296       3.270182  2.180570e+06\n",
       "Oyo          4707.375367  4.418967  3.129191       3.303936  2.293159e+06\n",
       "Plateau      5201.920118  4.356238  3.090466       3.249416  1.942316e+06\n",
       "Rivers       4886.061920  4.295363  3.225716       3.192420  2.957098e+06\n",
       "Sokoto       5073.720859  4.215013  3.197905       3.170740  1.681016e+06\n",
       "Taraba       4795.965079  4.418388  3.129435       3.136390  1.855306e+06\n",
       "Undisclosed  4816.126310  4.325951  3.136679       3.208432  2.170211e+06\n",
       "Yobe         4608.980170  4.260052  3.032037       3.163346  1.747938e+06\n",
       "Zamfara      4574.456897  4.275934  3.291677       3.114457  1.689541e+06"
      ]
     },
     "execution_count": 74,
     "metadata": {},
     "output_type": "execute_result"
    }
   ],
   "source": [
    "train.groupby(by=[\"loc\"]).mean()"
   ]
  },
  {
   "cell_type": "code",
   "execution_count": 75,
   "metadata": {},
   "outputs": [
    {
     "data": {
      "text/html": [
       "<div>\n",
       "<style scoped>\n",
       "    .dataframe tbody tr th:only-of-type {\n",
       "        vertical-align: middle;\n",
       "    }\n",
       "\n",
       "    .dataframe tbody tr th {\n",
       "        vertical-align: top;\n",
       "    }\n",
       "\n",
       "    .dataframe thead th {\n",
       "        text-align: right;\n",
       "    }\n",
       "</style>\n",
       "<table border=\"1\" class=\"dataframe\">\n",
       "  <thead>\n",
       "    <tr style=\"text-align: right;\">\n",
       "      <th></th>\n",
       "      <th></th>\n",
       "      <th>ID</th>\n",
       "      <th>bedroom</th>\n",
       "      <th>bathroom</th>\n",
       "      <th>parking_space</th>\n",
       "      <th>price</th>\n",
       "    </tr>\n",
       "    <tr>\n",
       "      <th>loc</th>\n",
       "      <th>title</th>\n",
       "      <th></th>\n",
       "      <th></th>\n",
       "      <th></th>\n",
       "      <th></th>\n",
       "      <th></th>\n",
       "    </tr>\n",
       "  </thead>\n",
       "  <tbody>\n",
       "    <tr>\n",
       "      <th rowspan=\"11\" valign=\"top\">Abia</th>\n",
       "      <th>Apartment</th>\n",
       "      <td>5023.633333</td>\n",
       "      <td>4.618029</td>\n",
       "      <td>2.697988</td>\n",
       "      <td>3.555977</td>\n",
       "      <td>1.307904e+06</td>\n",
       "    </tr>\n",
       "    <tr>\n",
       "      <th>Bungalow</th>\n",
       "      <td>5212.827586</td>\n",
       "      <td>3.846236</td>\n",
       "      <td>3.549643</td>\n",
       "      <td>3.465844</td>\n",
       "      <td>1.380416e+06</td>\n",
       "    </tr>\n",
       "    <tr>\n",
       "      <th>Cottage</th>\n",
       "      <td>1960.454545</td>\n",
       "      <td>2.636364</td>\n",
       "      <td>1.660770</td>\n",
       "      <td>2.015439</td>\n",
       "      <td>9.241519e+05</td>\n",
       "    </tr>\n",
       "    <tr>\n",
       "      <th>Detached duplex</th>\n",
       "      <td>4657.608696</td>\n",
       "      <td>4.170631</td>\n",
       "      <td>3.223228</td>\n",
       "      <td>3.297788</td>\n",
       "      <td>1.767214e+06</td>\n",
       "    </tr>\n",
       "    <tr>\n",
       "      <th>Flat</th>\n",
       "      <td>6071.607143</td>\n",
       "      <td>4.662173</td>\n",
       "      <td>3.350193</td>\n",
       "      <td>3.732481</td>\n",
       "      <td>1.530552e+06</td>\n",
       "    </tr>\n",
       "    <tr>\n",
       "      <th>Mansion</th>\n",
       "      <td>4393.545455</td>\n",
       "      <td>3.916142</td>\n",
       "      <td>3.327437</td>\n",
       "      <td>2.571186</td>\n",
       "      <td>2.842573e+06</td>\n",
       "    </tr>\n",
       "    <tr>\n",
       "      <th>Penthouse</th>\n",
       "      <td>6265.343750</td>\n",
       "      <td>4.497641</td>\n",
       "      <td>3.520974</td>\n",
       "      <td>3.745285</td>\n",
       "      <td>2.167290e+06</td>\n",
       "    </tr>\n",
       "    <tr>\n",
       "      <th>Semi-detached duplex</th>\n",
       "      <td>4035.600000</td>\n",
       "      <td>4.097484</td>\n",
       "      <td>2.893514</td>\n",
       "      <td>3.167298</td>\n",
       "      <td>1.461483e+06</td>\n",
       "    </tr>\n",
       "    <tr>\n",
       "      <th>Terrace duplex</th>\n",
       "      <td>4571.416667</td>\n",
       "      <td>3.580188</td>\n",
       "      <td>2.808446</td>\n",
       "      <td>3.264152</td>\n",
       "      <td>1.358023e+06</td>\n",
       "    </tr>\n",
       "    <tr>\n",
       "      <th>Townhouse</th>\n",
       "      <td>5355.333333</td>\n",
       "      <td>4.273584</td>\n",
       "      <td>3.137212</td>\n",
       "      <td>3.454406</td>\n",
       "      <td>1.677804e+06</td>\n",
       "    </tr>\n",
       "    <tr>\n",
       "      <th>Unknown</th>\n",
       "      <td>5767.083333</td>\n",
       "      <td>4.286338</td>\n",
       "      <td>3.309284</td>\n",
       "      <td>3.648324</td>\n",
       "      <td>1.744377e+06</td>\n",
       "    </tr>\n",
       "    <tr>\n",
       "      <th rowspan=\"11\" valign=\"top\">Adamawa</th>\n",
       "      <th>Apartment</th>\n",
       "      <td>3840.032258</td>\n",
       "      <td>4.210995</td>\n",
       "      <td>2.879628</td>\n",
       "      <td>3.194160</td>\n",
       "      <td>1.411304e+06</td>\n",
       "    </tr>\n",
       "    <tr>\n",
       "      <th>Bungalow</th>\n",
       "      <td>4394.689655</td>\n",
       "      <td>4.535892</td>\n",
       "      <td>2.958807</td>\n",
       "      <td>3.264803</td>\n",
       "      <td>1.508691e+06</td>\n",
       "    </tr>\n",
       "    <tr>\n",
       "      <th>Cottage</th>\n",
       "      <td>1864.533333</td>\n",
       "      <td>2.661634</td>\n",
       "      <td>1.951231</td>\n",
       "      <td>2.755977</td>\n",
       "      <td>1.105364e+06</td>\n",
       "    </tr>\n",
       "    <tr>\n",
       "      <th>Detached duplex</th>\n",
       "      <td>4125.064516</td>\n",
       "      <td>3.749441</td>\n",
       "      <td>3.311973</td>\n",
       "      <td>3.328670</td>\n",
       "      <td>1.930671e+06</td>\n",
       "    </tr>\n",
       "    <tr>\n",
       "      <th>Flat</th>\n",
       "      <td>4476.250000</td>\n",
       "      <td>4.588521</td>\n",
       "      <td>3.030203</td>\n",
       "      <td>3.338211</td>\n",
       "      <td>1.625529e+06</td>\n",
       "    </tr>\n",
       "    <tr>\n",
       "      <th>Mansion</th>\n",
       "      <td>3788.000000</td>\n",
       "      <td>4.130817</td>\n",
       "      <td>2.784565</td>\n",
       "      <td>2.361638</td>\n",
       "      <td>3.077385e+06</td>\n",
       "    </tr>\n",
       "    <tr>\n",
       "      <th>Penthouse</th>\n",
       "      <td>4612.793103</td>\n",
       "      <td>4.318368</td>\n",
       "      <td>3.200187</td>\n",
       "      <td>2.856866</td>\n",
       "      <td>2.323883e+06</td>\n",
       "    </tr>\n",
       "    <tr>\n",
       "      <th>Semi-detached duplex</th>\n",
       "      <td>4668.608696</td>\n",
       "      <td>5.498494</td>\n",
       "      <td>2.837760</td>\n",
       "      <td>3.507796</td>\n",
       "      <td>1.934580e+06</td>\n",
       "    </tr>\n",
       "    <tr>\n",
       "      <th>Terrace duplex</th>\n",
       "      <td>4562.000000</td>\n",
       "      <td>3.949685</td>\n",
       "      <td>2.979404</td>\n",
       "      <td>2.868579</td>\n",
       "      <td>1.650926e+06</td>\n",
       "    </tr>\n",
       "    <tr>\n",
       "      <th>Townhouse</th>\n",
       "      <td>5839.071429</td>\n",
       "      <td>4.783018</td>\n",
       "      <td>3.028765</td>\n",
       "      <td>2.917118</td>\n",
       "      <td>1.969274e+06</td>\n",
       "    </tr>\n",
       "    <tr>\n",
       "      <th>Unknown</th>\n",
       "      <td>4825.285714</td>\n",
       "      <td>4.141509</td>\n",
       "      <td>3.469080</td>\n",
       "      <td>3.324461</td>\n",
       "      <td>2.027178e+06</td>\n",
       "    </tr>\n",
       "    <tr>\n",
       "      <th rowspan=\"11\" valign=\"top\">Akwa Ibom</th>\n",
       "      <th>Apartment</th>\n",
       "      <td>5598.205882</td>\n",
       "      <td>4.278393</td>\n",
       "      <td>2.835374</td>\n",
       "      <td>3.471146</td>\n",
       "      <td>1.948163e+06</td>\n",
       "    </tr>\n",
       "    <tr>\n",
       "      <th>Bungalow</th>\n",
       "      <td>2906.529412</td>\n",
       "      <td>4.018128</td>\n",
       "      <td>2.494277</td>\n",
       "      <td>2.804665</td>\n",
       "      <td>2.134627e+06</td>\n",
       "    </tr>\n",
       "    <tr>\n",
       "      <th>Cottage</th>\n",
       "      <td>1855.166667</td>\n",
       "      <td>2.666667</td>\n",
       "      <td>1.500000</td>\n",
       "      <td>2.694971</td>\n",
       "      <td>1.558605e+06</td>\n",
       "    </tr>\n",
       "    <tr>\n",
       "      <th>Detached duplex</th>\n",
       "      <td>5014.560000</td>\n",
       "      <td>4.384654</td>\n",
       "      <td>3.237586</td>\n",
       "      <td>3.467172</td>\n",
       "      <td>2.902493e+06</td>\n",
       "    </tr>\n",
       "    <tr>\n",
       "      <th>Flat</th>\n",
       "      <td>5128.625000</td>\n",
       "      <td>4.067413</td>\n",
       "      <td>3.762585</td>\n",
       "      <td>3.333728</td>\n",
       "      <td>2.168208e+06</td>\n",
       "    </tr>\n",
       "    <tr>\n",
       "      <th>Mansion</th>\n",
       "      <td>3925.464286</td>\n",
       "      <td>3.986298</td>\n",
       "      <td>2.421622</td>\n",
       "      <td>2.661053</td>\n",
       "      <td>4.373729e+06</td>\n",
       "    </tr>\n",
       "    <tr>\n",
       "      <th>Penthouse</th>\n",
       "      <td>4949.750000</td>\n",
       "      <td>4.106917</td>\n",
       "      <td>2.879755</td>\n",
       "      <td>3.250526</td>\n",
       "      <td>3.283896e+06</td>\n",
       "    </tr>\n",
       "    <tr>\n",
       "      <th>Semi-detached duplex</th>\n",
       "      <td>4206.054054</td>\n",
       "      <td>4.923168</td>\n",
       "      <td>3.373119</td>\n",
       "      <td>2.847530</td>\n",
       "      <td>2.575849e+06</td>\n",
       "    </tr>\n",
       "    <tr>\n",
       "      <th>Terrace duplex</th>\n",
       "      <td>4897.645161</td>\n",
       "      <td>3.751876</td>\n",
       "      <td>2.888288</td>\n",
       "      <td>2.903837</td>\n",
       "      <td>2.254138e+06</td>\n",
       "    </tr>\n",
       "    <tr>\n",
       "      <th>Townhouse</th>\n",
       "      <td>6366.777778</td>\n",
       "      <td>4.587001</td>\n",
       "      <td>3.570471</td>\n",
       "      <td>3.099233</td>\n",
       "      <td>2.793523e+06</td>\n",
       "    </tr>\n",
       "    <tr>\n",
       "      <th>Unknown</th>\n",
       "      <td>4739.553571</td>\n",
       "      <td>4.582435</td>\n",
       "      <td>3.344080</td>\n",
       "      <td>3.381065</td>\n",
       "      <td>2.884950e+06</td>\n",
       "    </tr>\n",
       "    <tr>\n",
       "      <th rowspan=\"7\" valign=\"top\">Anambra</th>\n",
       "      <th>Apartment</th>\n",
       "      <td>4392.250000</td>\n",
       "      <td>4.426362</td>\n",
       "      <td>2.564039</td>\n",
       "      <td>3.139152</td>\n",
       "      <td>1.620074e+06</td>\n",
       "    </tr>\n",
       "    <tr>\n",
       "      <th>Bungalow</th>\n",
       "      <td>6083.080000</td>\n",
       "      <td>3.581634</td>\n",
       "      <td>3.317586</td>\n",
       "      <td>3.867172</td>\n",
       "      <td>1.680236e+06</td>\n",
       "    </tr>\n",
       "    <tr>\n",
       "      <th>Cottage</th>\n",
       "      <td>2139.800000</td>\n",
       "      <td>2.087211</td>\n",
       "      <td>1.751231</td>\n",
       "      <td>2.767298</td>\n",
       "      <td>1.304594e+06</td>\n",
       "    </tr>\n",
       "    <tr>\n",
       "      <th>Detached duplex</th>\n",
       "      <td>3787.882353</td>\n",
       "      <td>3.918608</td>\n",
       "      <td>2.755035</td>\n",
       "      <td>3.049391</td>\n",
       "      <td>2.197157e+06</td>\n",
       "    </tr>\n",
       "    <tr>\n",
       "      <th>Flat</th>\n",
       "      <td>5837.178571</td>\n",
       "      <td>4.673180</td>\n",
       "      <td>3.054891</td>\n",
       "      <td>2.935313</td>\n",
       "      <td>1.919436e+06</td>\n",
       "    </tr>\n",
       "    <tr>\n",
       "      <th>Mansion</th>\n",
       "      <td>5369.450000</td>\n",
       "      <td>4.902043</td>\n",
       "      <td>3.651847</td>\n",
       "      <td>3.112737</td>\n",
       "      <td>4.281431e+06</td>\n",
       "    </tr>\n",
       "    <tr>\n",
       "      <th>Penthouse</th>\n",
       "      <td>4971.953488</td>\n",
       "      <td>4.182536</td>\n",
       "      <td>2.921182</td>\n",
       "      <td>3.283460</td>\n",
       "      <td>2.768097e+06</td>\n",
       "    </tr>\n",
       "  </tbody>\n",
       "</table>\n",
       "</div>"
      ],
      "text/plain": [
       "                                         ID   bedroom  bathroom  \\\n",
       "loc       title                                                   \n",
       "Abia      Apartment             5023.633333  4.618029  2.697988   \n",
       "          Bungalow              5212.827586  3.846236  3.549643   \n",
       "          Cottage               1960.454545  2.636364  1.660770   \n",
       "          Detached duplex       4657.608696  4.170631  3.223228   \n",
       "          Flat                  6071.607143  4.662173  3.350193   \n",
       "          Mansion               4393.545455  3.916142  3.327437   \n",
       "          Penthouse             6265.343750  4.497641  3.520974   \n",
       "          Semi-detached duplex  4035.600000  4.097484  2.893514   \n",
       "          Terrace duplex        4571.416667  3.580188  2.808446   \n",
       "          Townhouse             5355.333333  4.273584  3.137212   \n",
       "          Unknown               5767.083333  4.286338  3.309284   \n",
       "Adamawa   Apartment             3840.032258  4.210995  2.879628   \n",
       "          Bungalow              4394.689655  4.535892  2.958807   \n",
       "          Cottage               1864.533333  2.661634  1.951231   \n",
       "          Detached duplex       4125.064516  3.749441  3.311973   \n",
       "          Flat                  4476.250000  4.588521  3.030203   \n",
       "          Mansion               3788.000000  4.130817  2.784565   \n",
       "          Penthouse             4612.793103  4.318368  3.200187   \n",
       "          Semi-detached duplex  4668.608696  5.498494  2.837760   \n",
       "          Terrace duplex        4562.000000  3.949685  2.979404   \n",
       "          Townhouse             5839.071429  4.783018  3.028765   \n",
       "          Unknown               4825.285714  4.141509  3.469080   \n",
       "Akwa Ibom Apartment             5598.205882  4.278393  2.835374   \n",
       "          Bungalow              2906.529412  4.018128  2.494277   \n",
       "          Cottage               1855.166667  2.666667  1.500000   \n",
       "          Detached duplex       5014.560000  4.384654  3.237586   \n",
       "          Flat                  5128.625000  4.067413  3.762585   \n",
       "          Mansion               3925.464286  3.986298  2.421622   \n",
       "          Penthouse             4949.750000  4.106917  2.879755   \n",
       "          Semi-detached duplex  4206.054054  4.923168  3.373119   \n",
       "          Terrace duplex        4897.645161  3.751876  2.888288   \n",
       "          Townhouse             6366.777778  4.587001  3.570471   \n",
       "          Unknown               4739.553571  4.582435  3.344080   \n",
       "Anambra   Apartment             4392.250000  4.426362  2.564039   \n",
       "          Bungalow              6083.080000  3.581634  3.317586   \n",
       "          Cottage               2139.800000  2.087211  1.751231   \n",
       "          Detached duplex       3787.882353  3.918608  2.755035   \n",
       "          Flat                  5837.178571  4.673180  3.054891   \n",
       "          Mansion               5369.450000  4.902043  3.651847   \n",
       "          Penthouse             4971.953488  4.182536  2.921182   \n",
       "\n",
       "                                parking_space         price  \n",
       "loc       title                                              \n",
       "Abia      Apartment                  3.555977  1.307904e+06  \n",
       "          Bungalow                   3.465844  1.380416e+06  \n",
       "          Cottage                    2.015439  9.241519e+05  \n",
       "          Detached duplex            3.297788  1.767214e+06  \n",
       "          Flat                       3.732481  1.530552e+06  \n",
       "          Mansion                    2.571186  2.842573e+06  \n",
       "          Penthouse                  3.745285  2.167290e+06  \n",
       "          Semi-detached duplex       3.167298  1.461483e+06  \n",
       "          Terrace duplex             3.264152  1.358023e+06  \n",
       "          Townhouse                  3.454406  1.677804e+06  \n",
       "          Unknown                    3.648324  1.744377e+06  \n",
       "Adamawa   Apartment                  3.194160  1.411304e+06  \n",
       "          Bungalow                   3.264803  1.508691e+06  \n",
       "          Cottage                    2.755977  1.105364e+06  \n",
       "          Detached duplex            3.328670  1.930671e+06  \n",
       "          Flat                       3.338211  1.625529e+06  \n",
       "          Mansion                    2.361638  3.077385e+06  \n",
       "          Penthouse                  2.856866  2.323883e+06  \n",
       "          Semi-detached duplex       3.507796  1.934580e+06  \n",
       "          Terrace duplex             2.868579  1.650926e+06  \n",
       "          Townhouse                  2.917118  1.969274e+06  \n",
       "          Unknown                    3.324461  2.027178e+06  \n",
       "Akwa Ibom Apartment                  3.471146  1.948163e+06  \n",
       "          Bungalow                   2.804665  2.134627e+06  \n",
       "          Cottage                    2.694971  1.558605e+06  \n",
       "          Detached duplex            3.467172  2.902493e+06  \n",
       "          Flat                       3.333728  2.168208e+06  \n",
       "          Mansion                    2.661053  4.373729e+06  \n",
       "          Penthouse                  3.250526  3.283896e+06  \n",
       "          Semi-detached duplex       2.847530  2.575849e+06  \n",
       "          Terrace duplex             2.903837  2.254138e+06  \n",
       "          Townhouse                  3.099233  2.793523e+06  \n",
       "          Unknown                    3.381065  2.884950e+06  \n",
       "Anambra   Apartment                  3.139152  1.620074e+06  \n",
       "          Bungalow                   3.867172  1.680236e+06  \n",
       "          Cottage                    2.767298  1.304594e+06  \n",
       "          Detached duplex            3.049391  2.197157e+06  \n",
       "          Flat                       2.935313  1.919436e+06  \n",
       "          Mansion                    3.112737  4.281431e+06  \n",
       "          Penthouse                  3.283460  2.768097e+06  "
      ]
     },
     "execution_count": 75,
     "metadata": {},
     "output_type": "execute_result"
    }
   ],
   "source": [
    "train.groupby(by=[\"loc\", \"title\"]).mean()[:40]"
   ]
  },
  {
   "cell_type": "code",
   "execution_count": 76,
   "metadata": {},
   "outputs": [
    {
     "data": {
      "text/html": [
       "<div>\n",
       "<style scoped>\n",
       "    .dataframe tbody tr th:only-of-type {\n",
       "        vertical-align: middle;\n",
       "    }\n",
       "\n",
       "    .dataframe tbody tr th {\n",
       "        vertical-align: top;\n",
       "    }\n",
       "\n",
       "    .dataframe thead th {\n",
       "        text-align: right;\n",
       "    }\n",
       "</style>\n",
       "<table border=\"1\" class=\"dataframe\">\n",
       "  <thead>\n",
       "    <tr style=\"text-align: right;\">\n",
       "      <th></th>\n",
       "      <th>ID</th>\n",
       "      <th>bedroom</th>\n",
       "      <th>bathroom</th>\n",
       "      <th>parking_space</th>\n",
       "      <th>price</th>\n",
       "    </tr>\n",
       "  </thead>\n",
       "  <tbody>\n",
       "    <tr>\n",
       "      <th>ID</th>\n",
       "      <td>1.000000</td>\n",
       "      <td>0.215356</td>\n",
       "      <td>0.322075</td>\n",
       "      <td>0.154381</td>\n",
       "      <td>0.167093</td>\n",
       "    </tr>\n",
       "    <tr>\n",
       "      <th>bedroom</th>\n",
       "      <td>0.215356</td>\n",
       "      <td>1.000000</td>\n",
       "      <td>0.195321</td>\n",
       "      <td>0.095379</td>\n",
       "      <td>0.496913</td>\n",
       "    </tr>\n",
       "    <tr>\n",
       "      <th>bathroom</th>\n",
       "      <td>0.322075</td>\n",
       "      <td>0.195321</td>\n",
       "      <td>1.000000</td>\n",
       "      <td>0.153675</td>\n",
       "      <td>0.204804</td>\n",
       "    </tr>\n",
       "    <tr>\n",
       "      <th>parking_space</th>\n",
       "      <td>0.154381</td>\n",
       "      <td>0.095379</td>\n",
       "      <td>0.153675</td>\n",
       "      <td>1.000000</td>\n",
       "      <td>0.101578</td>\n",
       "    </tr>\n",
       "    <tr>\n",
       "      <th>price</th>\n",
       "      <td>0.167093</td>\n",
       "      <td>0.496913</td>\n",
       "      <td>0.204804</td>\n",
       "      <td>0.101578</td>\n",
       "      <td>1.000000</td>\n",
       "    </tr>\n",
       "  </tbody>\n",
       "</table>\n",
       "</div>"
      ],
      "text/plain": [
       "                     ID   bedroom  bathroom  parking_space     price\n",
       "ID             1.000000  0.215356  0.322075       0.154381  0.167093\n",
       "bedroom        0.215356  1.000000  0.195321       0.095379  0.496913\n",
       "bathroom       0.322075  0.195321  1.000000       0.153675  0.204804\n",
       "parking_space  0.154381  0.095379  0.153675       1.000000  0.101578\n",
       "price          0.167093  0.496913  0.204804       0.101578  1.000000"
      ]
     },
     "execution_count": 76,
     "metadata": {},
     "output_type": "execute_result"
    }
   ],
   "source": [
    "train.corr()"
   ]
  },
  {
   "cell_type": "code",
   "execution_count": 77,
   "metadata": {},
   "outputs": [
    {
     "data": {
      "text/plain": [
       "<AxesSubplot:>"
      ]
     },
     "execution_count": 77,
     "metadata": {},
     "output_type": "execute_result"
    },
    {
     "data": {
      "image/png": "[encoded data removed]",
      "text/plain": [
       "<Figure size 576x432 with 2 Axes>"
      ]
     },
     "metadata": {
      "needs_background": "light"
     },
     "output_type": "display_data"
    }
   ],
   "source": [
    "plt.figure(figsize=(8, 6))\n",
    "sns.heatmap(train.corr(), annot=True)"
   ]
  },
  {
   "cell_type": "code",
   "execution_count": 78,
   "metadata": {},
   "outputs": [
    {
     "data": {
      "text/plain": [
       "<AxesSubplot:>"
      ]
     },
     "execution_count": 78,
     "metadata": {},
     "output_type": "execute_result"
    },
    {
     "data": {
      "image/png": "[encoded data removed]",
      "text/plain": [
       "<Figure size 576x432 with 1 Axes>"
      ]
     },
     "metadata": {
      "needs_background": "light"
     },
     "output_type": "display_data"
    }
   ],
   "source": [
    "plt.figure(figsize=(8, 6))\n",
    "sns.boxplot(data=train[[\"loc\", \"title\", \"bedroom\", \"bathroom\", \"parking_space\"]])"
   ]
  },
  {
   "cell_type": "code",
   "execution_count": 79,
   "metadata": {},
   "outputs": [
    {
     "data": {
      "text/plain": [
       "<AxesSubplot:ylabel='Frequency'>"
      ]
     },
     "execution_count": 79,
     "metadata": {},
     "output_type": "execute_result"
    },
    {
     "data": {
      "image/png": "[encoded data removed]",
      "text/plain": [
       "<Figure size 576x432 with 1 Axes>"
      ]
     },
     "metadata": {
      "needs_background": "light"
     },
     "output_type": "display_data"
    }
   ],
   "source": [
    "plt.figure(figsize=(8, 6))\n",
    "train[\"bathroom\"].plot(kind='hist', color='red', alpha=.9)"
   ]
  },
  {
   "cell_type": "code",
   "execution_count": 80,
   "metadata": {},
   "outputs": [
    {
     "data": {
      "text/plain": [
       "<seaborn.axisgrid.PairGrid at 0x1fb171ddc10>"
      ]
     },
     "execution_count": 80,
     "metadata": {},
     "output_type": "execute_result"
    },
    {
     "data": {
      "image/png": "[encoded data removed]",
      "text/plain": [
       "<Figure size 900x900 with 30 Axes>"
      ]
     },
     "metadata": {
      "needs_background": "light"
     },
     "output_type": "display_data"
    }
   ],
   "source": [
    "sns.pairplot(train)"
   ]
  },
  {
   "cell_type": "code",
   "execution_count": 81,
   "metadata": {},
   "outputs": [
    {
     "data": {
      "text/plain": [
       "<AxesSubplot:xlabel='price', ylabel='Density'>"
      ]
     },
     "execution_count": 81,
     "metadata": {},
     "output_type": "execute_result"
    },
    {
     "data": {
      "image/png": "[encoded data removed]",
      "text/plain": [
       "<Figure size 576x432 with 1 Axes>"
      ]
     },
     "metadata": {
      "needs_background": "light"
     },
     "output_type": "display_data"
    }
   ],
   "source": [
    "plt.figure(figsize=(8, 6))\n",
    "sns.distplot(train['price'])"
   ]
  },
  {
   "cell_type": "code",
   "execution_count": 82,
   "metadata": {},
   "outputs": [
    {
     "data": {
      "text/plain": [
       "<AxesSubplot:ylabel='Frequency'>"
      ]
     },
     "execution_count": 82,
     "metadata": {},
     "output_type": "execute_result"
    },
    {
     "data": {
      "image/png": "[encoded data removed]",
      "text/plain": [
       "<Figure size 576x432 with 1 Axes>"
      ]
     },
     "metadata": {
      "needs_background": "light"
     },
     "output_type": "display_data"
    }
   ],
   "source": [
    "plt.figure(figsize=(8, 6))\n",
    "train[\"bedroom\"].plot(kind='hist', color='red', alpha=.9)"
   ]
  },
  {
   "cell_type": "code",
   "execution_count": 83,
   "metadata": {},
   "outputs": [
    {
     "data": {
      "text/plain": [
       "<AxesSubplot:ylabel='Frequency'>"
      ]
     },
     "execution_count": 83,
     "metadata": {},
     "output_type": "execute_result"
    },
    {
     "data": {
      "image/png": "[encoded data removed]",
      "text/plain": [
       "<Figure size 576x432 with 1 Axes>"
      ]
     },
     "metadata": {
      "needs_background": "light"
     },
     "output_type": "display_data"
    }
   ],
   "source": [
    "plt.figure(figsize=(8, 6))\n",
    "train[\"parking_space\"].plot(kind='hist', color='red', alpha=.9)"
   ]
  },
  {
   "cell_type": "code",
   "execution_count": 84,
   "metadata": {},
   "outputs": [
    {
     "data": {
      "text/plain": [
       "<AxesSubplot:ylabel='Frequency'>"
      ]
     },
     "execution_count": 84,
     "metadata": {},
     "output_type": "execute_result"
    },
    {
     "data": {
      "image/png": "[encoded data removed]",
      "text/plain": [
       "<Figure size 576x432 with 1 Axes>"
      ]
     },
     "metadata": {
      "needs_background": "light"
     },
     "output_type": "display_data"
    }
   ],
   "source": [
    "plt.figure(figsize=(8, 6))\n",
    "train[\"bathroom\"].plot(kind='hist', color='blue', alpha=.9)"
   ]
  },
  {
   "cell_type": "code",
   "execution_count": 85,
   "metadata": {},
   "outputs": [
    {
     "data": {
      "image/png": "[encoded data removed]",
      "text/plain": [
       "<Figure size 720x432 with 1 Axes>"
      ]
     },
     "metadata": {
      "needs_background": "light"
     },
     "output_type": "display_data"
    }
   ],
   "source": [
    "plt.figure(figsize=(10, 6))\n",
    "sns.countplot(y=train['title'].explode(), order=train['title'].explode().value_counts().index)\n",
    "plt.ylabel('Genre')\n",
    "plt.xlabel('Counts')\n",
    "plt.title('Top 10 Most Popular Genres', fontsize=15)\n",
    "plt.yticks(rotation=0)\n",
    "plt.show()"
   ]
  },
  {
   "cell_type": "code",
   "execution_count": 86,
   "metadata": {},
   "outputs": [
    {
     "data": {
      "image/png": "[encoded data removed]",
      "text/plain": [
       "<Figure size 576x432 with 1 Axes>"
      ]
     },
     "metadata": {
      "needs_background": "light"
     },
     "output_type": "display_data"
    }
   ],
   "source": [
    "plt.figure(figsize=(8, 6))\n",
    "#top_movies = train['loc']\n",
    "sns.countplot(y='title', data=train, order=train['title'].value_counts().head().index)\n",
    "\n",
    "plt.ylabel('Directors')\n",
    "plt.xlabel('Counts')\n",
    "plt.title('Plot of Directors with most Comic Movies')\n",
    "plt.show()"
   ]
  },
  {
   "cell_type": "code",
   "execution_count": 87,
   "metadata": {},
   "outputs": [
    {
     "data": {
      "image/png": "[encoded data removed]",
      "text/plain": [
       "<Figure size 576x432 with 1 Axes>"
      ]
     },
     "metadata": {
      "needs_background": "light"
     },
     "output_type": "display_data"
    }
   ],
   "source": [
    "plt.figure(figsize=(8, 6))\n",
    "#top_movies = train['loc']\n",
    "sns.countplot(y='loc', data=train, order=train['loc'].value_counts().head().index)\n",
    "\n",
    "plt.ylabel('Directors')\n",
    "plt.xlabel('Counts')\n",
    "plt.title('Plot of Directors with most Comic Movies')\n",
    "plt.show()"
   ]
  },
  {
   "cell_type": "code",
   "execution_count": 88,
   "metadata": {},
   "outputs": [
    {
     "data": {
      "text/plain": [
       "Undisclosed    1813\n",
       "Kaduna          370\n",
       "Anambra         363\n",
       "Benue           355\n",
       "Yobe            353\n",
       "Borno           351\n",
       "Kano            351\n",
       "Cross River     349\n",
       "Nasarawa        349\n",
       "Zamfara         348\n",
       "Imo             348\n",
       "Ebonyi          346\n",
       "Kebbi           346\n",
       "Katsina         345\n",
       "Ogun            345\n",
       "Ondo            344\n",
       "Gombe           343\n",
       "Bauchi          342\n",
       "Oyo             341\n",
       "Adamawa         341\n",
       "Bayelsa         340\n",
       "Plateau         338\n",
       "Osun            338\n",
       "Jigawa          337\n",
       "Ekiti           336\n",
       "Kwara           333\n",
       "Niger           330\n",
       "Akwa Ibom       329\n",
       "Lagos           328\n",
       "Sokoto          326\n",
       "Delta           325\n",
       "Enugu           324\n",
       "Rivers          323\n",
       "Kogi            321\n",
       "Taraba          315\n",
       "Abia            312\n",
       "Edo             302\n",
       "Name: loc, dtype: int64"
      ]
     },
     "execution_count": 88,
     "metadata": {},
     "output_type": "execute_result"
    }
   ],
   "source": [
    "train['loc'].value_counts()"
   ]
  },
  {
   "cell_type": "code",
   "execution_count": 89,
   "metadata": {},
   "outputs": [
    {
     "data": {
      "text/plain": [
       "<AxesSubplot:ylabel='Frequency'>"
      ]
     },
     "execution_count": 89,
     "metadata": {},
     "output_type": "execute_result"
    },
    {
     "data": {
      "image/png": "[encoded data removed]",
      "text/plain": [
       "<Figure size 576x432 with 1 Axes>"
      ]
     },
     "metadata": {
      "needs_background": "light"
     },
     "output_type": "display_data"
    }
   ],
   "source": [
    "plt.figure(figsize=(8, 6))\n",
    "train['bedroom'].value_counts().plot(kind='hist')"
   ]
  },
  {
   "cell_type": "markdown",
   "metadata": {},
   "source": [
    "#### Data Preprocessing..."
   ]
  },
  {
   "cell_type": "code",
   "execution_count": 90,
   "metadata": {},
   "outputs": [],
   "source": [
    "label = LabelEncoder()"
   ]
  },
  {
   "cell_type": "code",
   "execution_count": 91,
   "metadata": {},
   "outputs": [
    {
     "data": {
      "text/plain": [
       "0        19\n",
       "1        27\n",
       "2        12\n",
       "3         3\n",
       "4        21\n",
       "         ..\n",
       "13995    11\n",
       "13996    17\n",
       "13997    30\n",
       "13998     9\n",
       "13999    24\n",
       "Name: loc, Length: 14000, dtype: int32"
      ]
     },
     "execution_count": 91,
     "metadata": {},
     "output_type": "execute_result"
    }
   ],
   "source": [
    "train['loc'] = label.fit_transform(train['loc'])\n",
    "train['loc']"
   ]
  },
  {
   "cell_type": "code",
   "execution_count": 92,
   "metadata": {},
   "outputs": [
    {
     "data": {
      "text/plain": [
       "0         7\n",
       "1         0\n",
       "2        10\n",
       "3         3\n",
       "4         8\n",
       "         ..\n",
       "13995     1\n",
       "13996     0\n",
       "13997     1\n",
       "13998     4\n",
       "13999    10\n",
       "Name: title, Length: 14000, dtype: int32"
      ]
     },
     "execution_count": 92,
     "metadata": {},
     "output_type": "execute_result"
    }
   ],
   "source": [
    "train['title'] = label.fit_transform(train['title'])\n",
    "train['title']"
   ]
  },
  {
   "cell_type": "code",
   "execution_count": 93,
   "metadata": {},
   "outputs": [
    {
     "data": {
      "text/html": [
       "<div>\n",
       "<style scoped>\n",
       "    .dataframe tbody tr th:only-of-type {\n",
       "        vertical-align: middle;\n",
       "    }\n",
       "\n",
       "    .dataframe tbody tr th {\n",
       "        vertical-align: top;\n",
       "    }\n",
       "\n",
       "    .dataframe thead th {\n",
       "        text-align: right;\n",
       "    }\n",
       "</style>\n",
       "<table border=\"1\" class=\"dataframe\">\n",
       "  <thead>\n",
       "    <tr style=\"text-align: right;\">\n",
       "      <th></th>\n",
       "      <th>loc</th>\n",
       "      <th>title</th>\n",
       "      <th>bedroom</th>\n",
       "      <th>bathroom</th>\n",
       "      <th>parking_space</th>\n",
       "    </tr>\n",
       "  </thead>\n",
       "  <tbody>\n",
       "    <tr>\n",
       "      <th>0</th>\n",
       "      <td>19</td>\n",
       "      <td>7</td>\n",
       "      <td>2.000000</td>\n",
       "      <td>2.0</td>\n",
       "      <td>1.000000</td>\n",
       "    </tr>\n",
       "    <tr>\n",
       "      <th>1</th>\n",
       "      <td>27</td>\n",
       "      <td>0</td>\n",
       "      <td>4.308171</td>\n",
       "      <td>2.0</td>\n",
       "      <td>4.000000</td>\n",
       "    </tr>\n",
       "    <tr>\n",
       "      <th>2</th>\n",
       "      <td>12</td>\n",
       "      <td>10</td>\n",
       "      <td>7.000000</td>\n",
       "      <td>5.0</td>\n",
       "      <td>3.169825</td>\n",
       "    </tr>\n",
       "    <tr>\n",
       "      <th>3</th>\n",
       "      <td>3</td>\n",
       "      <td>3</td>\n",
       "      <td>5.000000</td>\n",
       "      <td>2.0</td>\n",
       "      <td>4.000000</td>\n",
       "    </tr>\n",
       "    <tr>\n",
       "      <th>4</th>\n",
       "      <td>21</td>\n",
       "      <td>8</td>\n",
       "      <td>4.308171</td>\n",
       "      <td>5.0</td>\n",
       "      <td>6.000000</td>\n",
       "    </tr>\n",
       "    <tr>\n",
       "      <th>...</th>\n",
       "      <td>...</td>\n",
       "      <td>...</td>\n",
       "      <td>...</td>\n",
       "      <td>...</td>\n",
       "      <td>...</td>\n",
       "    </tr>\n",
       "    <tr>\n",
       "      <th>13995</th>\n",
       "      <td>11</td>\n",
       "      <td>1</td>\n",
       "      <td>4.308171</td>\n",
       "      <td>7.0</td>\n",
       "      <td>3.169825</td>\n",
       "    </tr>\n",
       "    <tr>\n",
       "      <th>13996</th>\n",
       "      <td>17</td>\n",
       "      <td>0</td>\n",
       "      <td>4.308171</td>\n",
       "      <td>7.0</td>\n",
       "      <td>5.000000</td>\n",
       "    </tr>\n",
       "    <tr>\n",
       "      <th>13997</th>\n",
       "      <td>30</td>\n",
       "      <td>1</td>\n",
       "      <td>8.000000</td>\n",
       "      <td>6.0</td>\n",
       "      <td>5.000000</td>\n",
       "    </tr>\n",
       "    <tr>\n",
       "      <th>13998</th>\n",
       "      <td>9</td>\n",
       "      <td>4</td>\n",
       "      <td>4.308171</td>\n",
       "      <td>6.0</td>\n",
       "      <td>1.000000</td>\n",
       "    </tr>\n",
       "    <tr>\n",
       "      <th>13999</th>\n",
       "      <td>24</td>\n",
       "      <td>10</td>\n",
       "      <td>9.000000</td>\n",
       "      <td>7.0</td>\n",
       "      <td>5.000000</td>\n",
       "    </tr>\n",
       "  </tbody>\n",
       "</table>\n",
       "<p>14000 rows × 5 columns</p>\n",
       "</div>"
      ],
      "text/plain": [
       "       loc  title   bedroom  bathroom  parking_space\n",
       "0       19      7  2.000000       2.0       1.000000\n",
       "1       27      0  4.308171       2.0       4.000000\n",
       "2       12     10  7.000000       5.0       3.169825\n",
       "3        3      3  5.000000       2.0       4.000000\n",
       "4       21      8  4.308171       5.0       6.000000\n",
       "...    ...    ...       ...       ...            ...\n",
       "13995   11      1  4.308171       7.0       3.169825\n",
       "13996   17      0  4.308171       7.0       5.000000\n",
       "13997   30      1  8.000000       6.0       5.000000\n",
       "13998    9      4  4.308171       6.0       1.000000\n",
       "13999   24     10  9.000000       7.0       5.000000\n",
       "\n",
       "[14000 rows x 5 columns]"
      ]
     },
     "execution_count": 93,
     "metadata": {},
     "output_type": "execute_result"
    }
   ],
   "source": [
    "X = train.drop(['ID', 'price'], axis=1)\n",
    "X"
   ]
  },
  {
   "cell_type": "code",
   "execution_count": 94,
   "metadata": {},
   "outputs": [
    {
     "data": {
      "text/plain": [
       "0        1149999.565\n",
       "1        1672416.689\n",
       "2        3364799.814\n",
       "3        2410306.756\n",
       "4        2600700.898\n",
       "            ...     \n",
       "13995    2367927.861\n",
       "13996    2228516.471\n",
       "13997    2406812.693\n",
       "13998    3348918.718\n",
       "13999    2858516.890\n",
       "Name: price, Length: 14000, dtype: float64"
      ]
     },
     "execution_count": 94,
     "metadata": {},
     "output_type": "execute_result"
    }
   ],
   "source": [
    "y = train['price']\n",
    "y"
   ]
  },
  {
   "cell_type": "code",
   "execution_count": 95,
   "metadata": {},
   "outputs": [
    {
     "data": {
      "text/plain": [
       "array([[-5.94381125e-02,  5.22038265e-01, -1.01287324e+00,\n",
       "        -5.96934926e-01, -1.45399005e+00],\n",
       "       [ 6.53615508e-01, -1.65007357e+00, -3.89751007e-16,\n",
       "        -5.96934926e-01,  5.56296330e-01],\n",
       "       [-6.83360031e-01,  1.45294334e+00,  1.18122988e+00,\n",
       "         9.81930334e-01,  2.97582163e-16],\n",
       "       ...,\n",
       "       [ 9.21010616e-01, -1.33977188e+00,  1.62005050e+00,\n",
       "         1.50821875e+00,  1.22639179e+00],\n",
       "       [-9.50755138e-01, -4.08866806e-01, -3.89751007e-16,\n",
       "         1.50821875e+00, -1.45399005e+00],\n",
       "       [ 3.86220400e-01,  1.45294334e+00,  2.05887112e+00,\n",
       "         2.03450717e+00,  1.22639179e+00]])"
      ]
     },
     "execution_count": 95,
     "metadata": {},
     "output_type": "execute_result"
    }
   ],
   "source": [
    "scaler = StandardScaler()\n",
    "X = scaler.fit_transform(X)\n",
    "X"
   ]
  },
  {
   "cell_type": "code",
   "execution_count": 96,
   "metadata": {},
   "outputs": [],
   "source": [
    "X_train, X_test, y_train, y_test = train_test_split(X, y, test_size=.20, random_state=11)"
   ]
  },
  {
   "cell_type": "code",
   "execution_count": 97,
   "metadata": {},
   "outputs": [],
   "source": [
    "linear = LinearRegression()"
   ]
  },
  {
   "cell_type": "code",
   "execution_count": 98,
   "metadata": {},
   "outputs": [
    {
     "data": {
      "text/plain": [
       "LinearRegression()"
      ]
     },
     "execution_count": 98,
     "metadata": {},
     "output_type": "execute_result"
    }
   ],
   "source": [
    "linear.fit(X_train, y_train)"
   ]
  },
  {
   "cell_type": "code",
   "execution_count": 99,
   "metadata": {},
   "outputs": [],
   "source": [
    "def rmse(model):\n",
    "    pred = model.predict(X_test)\n",
    "    rmse = np.sqrt(metrics.mean_squared_error(pred, y_test))\n",
    "\n",
    "    return rmse\n",
    "\n"
   ]
  },
  {
   "cell_type": "code",
   "execution_count": 100,
   "metadata": {},
   "outputs": [
    {
     "data": {
      "text/plain": [
       "RandomForestRegressor(n_jobs=10, random_state=11)"
      ]
     },
     "execution_count": 100,
     "metadata": {},
     "output_type": "execute_result"
    }
   ],
   "source": [
    "from sklearn.ensemble import  RandomForestRegressor\n",
    "forest = RandomForestRegressor(n_estimators=100, n_jobs=10, random_state=11)\n",
    "forest.fit(X_train, y_train)"
   ]
  },
  {
   "cell_type": "code",
   "execution_count": 101,
   "metadata": {},
   "outputs": [
    {
     "data": {
      "text/plain": [
       "XGBRegressor(base_score=None, booster=None, callbacks=None,\n",
       "             colsample_bylevel=None, colsample_bynode=None,\n",
       "             colsample_bytree=None, early_stopping_rounds=None,\n",
       "             enable_categorical=False, eval_metric=None, feature_types=None,\n",
       "             gamma=None, gpu_id=None, grow_policy=None, importance_type=None,\n",
       "             interaction_constraints=None, learning_rate=None, max_bin=None,\n",
       "             max_cat_threshold=None, max_cat_to_onehot=None,\n",
       "             max_delta_step=None, max_depth=None, max_leaves=0,\n",
       "             min_child_weight=None, missing=nan, monotone_constraints=None,\n",
       "             n_estimators=100, n_jobs=10, num_parallel_tree=None,\n",
       "             predictor=None, random_state=11, ...)"
      ]
     },
     "execution_count": 101,
     "metadata": {},
     "output_type": "execute_result"
    }
   ],
   "source": [
    "from sklearn.ensemble import  ExtraTreesRegressor, BaggingRegressor, AdaBoostRegressor, GradientBoostingRegressor\n",
    "from xgboost import XGBRegressor\n",
    "\n",
    "\n",
    "boost = AdaBoostRegressor()\n",
    "gradient = GradientBoostingRegressor()\n",
    "xgb = XGBRegressor(random_state=11, n_estimators=100, max_leaves=0, n_jobs=10)\n",
    "\n",
    "\n",
    "boost.fit(X_train, y_train)\n",
    "gradient.fit(X_train, y_train)\n",
    "xgb.fit(X_train, y_train)"
   ]
  },
  {
   "cell_type": "code",
   "execution_count": 102,
   "metadata": {},
   "outputs": [
    {
     "data": {
      "text/plain": [
       "GridSearchCV(cv=5,\n",
       "             estimator=XGBRegressor(base_score=None, booster=None,\n",
       "                                    callbacks=None, colsample_bylevel=None,\n",
       "                                    colsample_bynode=None,\n",
       "                                    colsample_bytree=None,\n",
       "                                    early_stopping_rounds=None,\n",
       "                                    enable_categorical=False, eval_metric=None,\n",
       "                                    feature_types=None, gamma=None, gpu_id=None,\n",
       "                                    grow_policy=None, importance_type=None,\n",
       "                                    interaction_constraints=None,\n",
       "                                    learning_rate=None, max_bin=None,\n",
       "                                    max_cat_threshold=None,\n",
       "                                    max_cat_to_onehot=None, max_delta_step=None,\n",
       "                                    max_depth=None, max_leaves=0,\n",
       "                                    min_child_weight=None, missing=nan,\n",
       "                                    monotone_constraints=None, n_estimators=100,\n",
       "                                    n_jobs=10, num_parallel_tree=None,\n",
       "                                    predictor=None, random_state=11, ...),\n",
       "             param_grid={'max_leaves': [0, 1, 4, 7, 9],\n",
       "                         'n_estimators': [1, 5, 10, 15],\n",
       "                         'n_jobs': [0, 5, 10, 15]})"
      ]
     },
     "execution_count": 102,
     "metadata": {},
     "output_type": "execute_result"
    }
   ],
   "source": [
    "param_grid = {'n_estimators' : [1, 5, 10, 15],\n",
    "'n_jobs' : [0, 5, 10, 15],\n",
    "'max_leaves' : [0, 1, 4, 7, 9]\n",
    "}\n",
    "gcv = GridSearchCV(xgb , param_grid=param_grid, cv=5)\n",
    "gcv.fit(X_train, y_train)"
   ]
  },
  {
   "cell_type": "code",
   "execution_count": 103,
   "metadata": {},
   "outputs": [
    {
     "data": {
      "text/plain": [
       "XGBRegressor(base_score=None, booster=None, callbacks=None,\n",
       "             colsample_bylevel=None, colsample_bynode=None,\n",
       "             colsample_bytree=None, early_stopping_rounds=None,\n",
       "             enable_categorical=False, eval_metric=None, feature_types=None,\n",
       "             gamma=50, gpu_id=None, grow_policy=None, importance_type=None,\n",
       "             interaction_constraints=None, learning_rate=None, max_bin=None,\n",
       "             max_cat_threshold=None, max_cat_to_onehot=None,\n",
       "             max_delta_step=None, max_depth=None, max_leaves=0,\n",
       "             min_child_weight=None, missing=nan, monotone_constraints=None,\n",
       "             n_estimators=100, n_jobs=0, num_parallel_tree=None, predictor=None,\n",
       "             random_state=11, ...)"
      ]
     },
     "execution_count": 103,
     "metadata": {},
     "output_type": "execute_result"
    }
   ],
   "source": [
    "xgb = XGBRegressor(random_state=11, n_estimators=100, n_jobs=0, max_leaves=0, gamma=50)\n",
    "xgb.fit(X_train, y_train)"
   ]
  },
  {
   "cell_type": "code",
   "execution_count": 104,
   "metadata": {},
   "outputs": [
    {
     "data": {
      "text/plain": [
       "BaggingRegressor(base_estimator=XGBRegressor(base_score=None, booster=None,\n",
       "                                             callbacks=None,\n",
       "                                             colsample_bylevel=None,\n",
       "                                             colsample_bynode=None,\n",
       "                                             colsample_bytree=None,\n",
       "                                             early_stopping_rounds=None,\n",
       "                                             enable_categorical=False,\n",
       "                                             eval_metric=None,\n",
       "                                             feature_types=None, gamma=50,\n",
       "                                             gpu_id=None, grow_policy=None,\n",
       "                                             importance_type=None,\n",
       "                                             interaction_constraints=None,\n",
       "                                             learning_rate=None, max_bin=None,\n",
       "                                             max_cat_threshold=None,\n",
       "                                             max_cat_to_onehot=None,\n",
       "                                             max_delta_step=None,\n",
       "                                             max_depth=None, max_leaves=0,\n",
       "                                             min_child_weight=None, missing=nan,\n",
       "                                             monotone_constraints=None,\n",
       "                                             n_estimators=100, n_jobs=0,\n",
       "                                             num_parallel_tree=None,\n",
       "                                             predictor=None, random_state=11, ...),\n",
       "                 n_estimators=100, n_jobs=10)"
      ]
     },
     "execution_count": 104,
     "metadata": {},
     "output_type": "execute_result"
    }
   ],
   "source": [
    "bag = BaggingRegressor(n_estimators=100, n_jobs=10, base_estimator=xgb)\n",
    "bag.fit(X_train, y_train)"
   ]
  },
  {
   "cell_type": "code",
   "execution_count": 105,
   "metadata": {},
   "outputs": [
    {
     "data": {
      "text/plain": [
       "576932.2387991401"
      ]
     },
     "execution_count": 105,
     "metadata": {},
     "output_type": "execute_result"
    }
   ],
   "source": [
    "rmse(xgb)"
   ]
  },
  {
   "cell_type": "code",
   "execution_count": 106,
   "metadata": {},
   "outputs": [
    {
     "data": {
      "text/plain": [
       "645119.9723128966"
      ]
     },
     "execution_count": 106,
     "metadata": {},
     "output_type": "execute_result"
    }
   ],
   "source": [
    "rmse(gradient)"
   ]
  },
  {
   "cell_type": "code",
   "execution_count": 107,
   "metadata": {},
   "outputs": [
    {
     "data": {
      "text/plain": [
       "572640.7695302563"
      ]
     },
     "execution_count": 107,
     "metadata": {},
     "output_type": "execute_result"
    }
   ],
   "source": [
    "rmse(bag)"
   ]
  },
  {
   "cell_type": "markdown",
   "metadata": {},
   "source": [
    "#### Replicating preprocessing on test data"
   ]
  },
  {
   "cell_type": "code",
   "execution_count": 108,
   "metadata": {},
   "outputs": [],
   "source": [
    "test['loc'] = label.fit_transform(test['loc'])\n",
    "test['title'] = label.fit_transform(test['title'])\n",
    "\n",
    "test = test.drop(['ID'], axis=1)\n",
    "\n",
    "test = scaler.fit_transform(test)"
   ]
  },
  {
   "cell_type": "code",
   "execution_count": 109,
   "metadata": {},
   "outputs": [
    {
     "data": {
      "text/plain": [
       "array([1101316.6, 1498190.8, 1859162.8, ..., 1355708.8, 4743075. ,\n",
       "       2507091.2], dtype=float32)"
      ]
     },
     "execution_count": 109,
     "metadata": {},
     "output_type": "execute_result"
    }
   ],
   "source": [
    "prediction = bag.predict(test)\n",
    "prediction"
   ]
  },
  {
   "cell_type": "code",
   "execution_count": 110,
   "metadata": {},
   "outputs": [
    {
     "data": {
      "text/html": [
       "<div>\n",
       "<style scoped>\n",
       "    .dataframe tbody tr th:only-of-type {\n",
       "        vertical-align: middle;\n",
       "    }\n",
       "\n",
       "    .dataframe tbody tr th {\n",
       "        vertical-align: top;\n",
       "    }\n",
       "\n",
       "    .dataframe thead th {\n",
       "        text-align: right;\n",
       "    }\n",
       "</style>\n",
       "<table border=\"1\" class=\"dataframe\">\n",
       "  <thead>\n",
       "    <tr style=\"text-align: right;\">\n",
       "      <th></th>\n",
       "      <th>ID</th>\n",
       "      <th>price</th>\n",
       "    </tr>\n",
       "  </thead>\n",
       "  <tbody>\n",
       "    <tr>\n",
       "      <th>0</th>\n",
       "      <td>845</td>\n",
       "      <td>1101316.625</td>\n",
       "    </tr>\n",
       "    <tr>\n",
       "      <th>1</th>\n",
       "      <td>1924</td>\n",
       "      <td>1498190.750</td>\n",
       "    </tr>\n",
       "    <tr>\n",
       "      <th>2</th>\n",
       "      <td>10718</td>\n",
       "      <td>1859162.750</td>\n",
       "    </tr>\n",
       "    <tr>\n",
       "      <th>3</th>\n",
       "      <td>12076</td>\n",
       "      <td>4312253.000</td>\n",
       "    </tr>\n",
       "    <tr>\n",
       "      <th>4</th>\n",
       "      <td>12254</td>\n",
       "      <td>1683597.250</td>\n",
       "    </tr>\n",
       "    <tr>\n",
       "      <th>...</th>\n",
       "      <td>...</td>\n",
       "      <td>...</td>\n",
       "    </tr>\n",
       "    <tr>\n",
       "      <th>5995</th>\n",
       "      <td>1594</td>\n",
       "      <td>3324258.500</td>\n",
       "    </tr>\n",
       "    <tr>\n",
       "      <th>5996</th>\n",
       "      <td>2416</td>\n",
       "      <td>2902916.250</td>\n",
       "    </tr>\n",
       "    <tr>\n",
       "      <th>5997</th>\n",
       "      <td>10195</td>\n",
       "      <td>1355708.750</td>\n",
       "    </tr>\n",
       "    <tr>\n",
       "      <th>5998</th>\n",
       "      <td>9455</td>\n",
       "      <td>4743075.000</td>\n",
       "    </tr>\n",
       "    <tr>\n",
       "      <th>5999</th>\n",
       "      <td>11736</td>\n",
       "      <td>2507091.250</td>\n",
       "    </tr>\n",
       "  </tbody>\n",
       "</table>\n",
       "<p>6000 rows × 2 columns</p>\n",
       "</div>"
      ],
      "text/plain": [
       "         ID        price\n",
       "0       845  1101316.625\n",
       "1      1924  1498190.750\n",
       "2     10718  1859162.750\n",
       "3     12076  4312253.000\n",
       "4     12254  1683597.250\n",
       "...     ...          ...\n",
       "5995   1594  3324258.500\n",
       "5996   2416  2902916.250\n",
       "5997  10195  1355708.750\n",
       "5998   9455  4743075.000\n",
       "5999  11736  2507091.250\n",
       "\n",
       "[6000 rows x 2 columns]"
      ]
     },
     "execution_count": 110,
     "metadata": {},
     "output_type": "execute_result"
    }
   ],
   "source": [
    "submit = pd.DataFrame({'ID': submission['ID'], 'price': prediction})\n",
    "submit"
   ]
  },
  {
   "cell_type": "code",
   "execution_count": 111,
   "metadata": {},
   "outputs": [],
   "source": [
    "submit.to_csv(\"hack_submission\", index=0)"
   ]
  },
  {
   "cell_type": "code",
   "execution_count": null,
   "metadata": {},
   "outputs": [],
   "source": []
  },
  {
   "cell_type": "code",
   "execution_count": null,
   "metadata": {},
   "outputs": [],
   "source": []
  },
  {
   "cell_type": "code",
   "execution_count": null,
   "metadata": {},
   "outputs": [],
   "source": []
  },
  {
   "cell_type": "code",
   "execution_count": 112,
   "metadata": {},
   "outputs": [
    {
     "data": {
      "text/plain": [
       "'train[\"region\"] = {\\n                    \\'South West\\': [\\'Lagos\\', \\'Ogun\\', \\'Ondo\\', \\'Osun,\\' \\'Oyo\\', \\'Ekiti\\'],\\n                    \\'South South\\': [\\'Bayelsa\\', \\'Cross River\\', \\'Rivers\\', \\'Akwa Ibom\\', \\'Delta\\', \\'Edo\\'],\\n                    \\'South East\\': [\\'Abia\\', \\'Anambra\\', \\'Imo\\', \\'Ebonyi\\', \\'Enugu\\'],\\n                    \\'North Central\\': [\\'Kogi\\', \\'Kwara\\', \\'Nasarawa\\', \\'Niger\\', \\'Benue\\', \\'Plateau\\'],\\n                    \\'North West\\': [\\'Kaduna\\', \\'Kano\\', \\'Kebbi\\', \\'Sokoto\\', \\'Zamfara\\', \\'Katsina\\', \\'Jigawa\\'],\\n                    \\'North East\\': [\\'Yobe\\', \\'Borno\\', \\'Adamawa\\', \\'Taraba\\', \\'Bauchi\\', \\'Gombe\\']\\n                  }\\n'"
      ]
     },
     "execution_count": 112,
     "metadata": {},
     "output_type": "execute_result"
    }
   ],
   "source": [
    "\"\"\"train[\"region\"] = {\n",
    "                    'South West': ['Lagos', 'Ogun', 'Ondo', 'Osun,' 'Oyo', 'Ekiti'],\n",
    "                    'South South': ['Bayelsa', 'Cross River', 'Rivers', 'Akwa Ibom', 'Delta', 'Edo'],\n",
    "                    'South East': ['Abia', 'Anambra', 'Imo', 'Ebonyi', 'Enugu'],\n",
    "                    'North Central': ['Kogi', 'Kwara', 'Nasarawa', 'Niger', 'Benue', 'Plateau'],\n",
    "                    'North West': ['Kaduna', 'Kano', 'Kebbi', 'Sokoto', 'Zamfara', 'Katsina', 'Jigawa'],\n",
    "                    'North East': ['Yobe', 'Borno', 'Adamawa', 'Taraba', 'Bauchi', 'Gombe']\n",
    "                  }\n",
    "\"\"\""
   ]
  },
  {
   "cell_type": "code",
   "execution_count": 127,
   "metadata": {},
   "outputs": [],
   "source": [
    "South_West = ['Lagos', 'Ogun', 'Ondo', 'Osun,' 'Oyo', 'Ekiti'],\n",
    "South_South = ['Bayelsa', 'Cross River', 'Rivers', 'Akwa Ibom', 'Delta', 'Edo'],\n",
    "South_East = ['Abia', 'Anambra', 'Imo', 'Ebonyi', 'Enugu'],\n",
    "North_Central = ['Kogi', 'Kwara', 'Nasarawa', 'Niger', 'Benue', 'Plateau'],\n",
    "North_West = ['Kaduna', 'Kano', 'Kebbi', 'Sokoto', 'Zamfara', 'Katsina', 'Jigawa'],\n",
    "North_East =['Yobe', 'Borno', 'Adamawa', 'Taraba', 'Bauchi', 'Gombe']"
   ]
  },
  {
   "cell_type": "code",
   "execution_count": 124,
   "metadata": {},
   "outputs": [],
   "source": [
    "#plt.train[['bedroom', 'bathroom', 'parking_space']].plot(kind='hist')\n",
    "#plt.plot(train[['South_West', 'South_South', 'South_East', 'North_Central', 'North_West', 'North_East']], kind='hist')"
   ]
  },
  {
   "cell_type": "code",
   "execution_count": null,
   "metadata": {},
   "outputs": [],
   "source": []
  }
 ],
 "metadata": {
  "kernelspec": {
   "display_name": "base",
   "language": "python",
   "name": "python3"
  },
  "language_info": {
   "codemirror_mode": {
    "name": "ipython",
    "version": 3
   },
   "file_extension": ".py",
   "mimetype": "text/x-python",
   "name": "python",
   "nbconvert_exporter": "python",
   "pygments_lexer": "ipython3",
   "version": "3.9.12"
  },
  "orig_nbformat": 4
 },
 "nbformat": 4,
 "nbformat_minor": 2
}
